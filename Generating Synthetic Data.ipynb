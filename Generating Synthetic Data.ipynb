{
 "cells": [
  {
   "cell_type": "code",
   "execution_count": 136,
   "id": "0bce85fd",
   "metadata": {},
   "outputs": [],
   "source": [
    "%run synthetic_fit_funcs.py"
   ]
  },
  {
   "cell_type": "code",
   "execution_count": 52,
   "id": "6238d03a",
   "metadata": {},
   "outputs": [],
   "source": [
    "import matplotlib.pyplot as plt\n",
    "import seaborn as sb"
   ]
  },
  {
   "cell_type": "code",
   "execution_count": 53,
   "id": "4844b95b",
   "metadata": {},
   "outputs": [],
   "source": [
    "def unweight(net,thr):\n",
    "    return np.sign(net)*(abs(net) >= thr)\n",
    "\n",
    "def topQnet(net_o,q=0.9):\n",
    "    net = net_o.copy()\n",
    "    if isinstance(net,pd.DataFrame):\n",
    "        net = net.values\n",
    "    qstr = np.quantile(np.abs(np.tril(net,k=-1).flatten()),q)\n",
    "    net = net - np.diag(np.diag(net))\n",
    "    return unweight(net,qstr)"
   ]
  },
  {
   "cell_type": "markdown",
   "id": "f8eed8ac",
   "metadata": {},
   "source": [
    "# Generating Synthetic Data From Log-Normal Distribution with Error-Free Simulated Reads"
   ]
  },
  {
   "cell_type": "markdown",
   "id": "3a4bf9ff",
   "metadata": {},
   "source": [
    "We start with setting up our parameters:"
   ]
  },
  {
   "cell_type": "code",
   "execution_count": 6,
   "id": "f50cdabc",
   "metadata": {},
   "outputs": [],
   "source": [
    "network_methods = [\"Log Covariance\",\"CLR Mixed\",\"CLR Split\",\"SparCC\",\"GLASSO Mixed\",\"GLASSO Split\"]\n",
    "\n",
    "ns = 2 # 2 for data split in half. Can also split more times...\n",
    "gsp = 0.05 #approximate graph sparsity desired\n",
    "\n",
    "grmod = \"PL\"#power-law clustering graph\n",
    "\n",
    "\n",
    "mean_spread = 4 #for choosing the mean of the log-data higher for larger spread (e.g. more rare & dominant taxa)\n",
    "mean_center = 0 #to center things around 1\n",
    "\n",
    "min_var = 0.3 #minimum variance of log-abundance for each taxa\n",
    "max_var = 2 #maximum variance of log-abundance for each taxa\n",
    "\n",
    "simulate_reads_tasks = 6 #how many cores to use for parallel computing\n",
    "\n",
    "avgdpth = 100000 #average read depth\n",
    "stddpth = 10000 #standard deviation in read depth"
   ]
  },
  {
   "cell_type": "markdown",
   "id": "f41ee136",
   "metadata": {},
   "source": [
    "Including number of taxa and number of samples"
   ]
  },
  {
   "cell_type": "code",
   "execution_count": 7,
   "id": "a8a52ebf",
   "metadata": {},
   "outputs": [],
   "source": [
    "M = 150 ###Samples\n",
    "N = 500 ###Taxa"
   ]
  },
  {
   "cell_type": "code",
   "execution_count": 86,
   "id": "70090be2",
   "metadata": {},
   "outputs": [],
   "source": [
    "sparse_adjust = {\"Kingdoms\":(0,1),\"SparsityRatio\":0.1}\n",
    "bias_blocks = [(0,1,-1)] #cross kingdom interactions more positive\n",
    "bias_str = 0.9 "
   ]
  },
  {
   "cell_type": "markdown",
   "id": "396276fd",
   "metadata": {},
   "source": [
    "## A function to do it all:"
   ]
  },
  {
   "cell_type": "markdown",
   "id": "a29dc89e",
   "metadata": {},
   "source": [
    "The ```generate_synthetic_data``` function creates the synthetic data set that can be fed into network algorithms such as SparCC or GLASSO (one can use SpiecEasi: https://github.com/zdk123/SpiecEasi)"
   ]
  },
  {
   "cell_type": "code",
   "execution_count": 87,
   "id": "19c7880e",
   "metadata": {},
   "outputs": [],
   "source": [
    "%run synthetic_fit_funcs.py"
   ]
  },
  {
   "cell_type": "code",
   "execution_count": 88,
   "id": "9caba93f",
   "metadata": {},
   "outputs": [
    {
     "name": "stderr",
     "output_type": "stream",
     "text": [
      " 11%|█         | 35/317 [00:00<00:00, 343.87it/s]"
     ]
    },
    {
     "name": "stdout",
     "output_type": "stream",
     "text": [
      "[create_groundtruth_covariance] Generating cholesky decomposition\n"
     ]
    },
    {
     "name": "stderr",
     "output_type": "stream",
     "text": [
      "100%|██████████| 317/317 [00:03<00:00, 83.52it/s] \n",
      "100%|██████████| 183/183 [00:11<00:00, 15.42it/s]\n",
      "  2%|▏         | 3/150 [00:00<00:06, 21.74it/s]"
     ]
    },
    {
     "name": "stdout",
     "output_type": "stream",
     "text": [
      "[generate_synthetic_samples] Drawing 150 Samples for 500 taxa\n"
     ]
    },
    {
     "name": "stderr",
     "output_type": "stream",
     "text": [
      " 68%|██████▊   | 102/150 [00:04<00:02, 21.23it/s]\n"
     ]
    },
    {
     "ename": "KeyboardInterrupt",
     "evalue": "",
     "output_type": "error",
     "traceback": [
      "\u001b[0;31m---------------------------------------------------------------------------\u001b[0m",
      "\u001b[0;31mKeyboardInterrupt\u001b[0m                         Traceback (most recent call last)",
      "\u001b[0;32m<ipython-input-88-3da662dd4fd5>\u001b[0m in \u001b[0;36m<module>\u001b[0;34m\u001b[0m\n\u001b[1;32m     14\u001b[0m     \u001b[0;34m'truth_bias_structure'\u001b[0m\u001b[0;34m:\u001b[0m\u001b[0mbias_blocks\u001b[0m\u001b[0;34m\u001b[0m\u001b[0;34m\u001b[0m\u001b[0m\n\u001b[1;32m     15\u001b[0m }\n\u001b[0;32m---> 16\u001b[0;31m \u001b[0msynthetic_data\u001b[0m \u001b[0;34m=\u001b[0m \u001b[0mgenerate_synthetic_data\u001b[0m\u001b[0;34m(\u001b[0m\u001b[0mN\u001b[0m\u001b[0;34m,\u001b[0m\u001b[0mM\u001b[0m\u001b[0;34m,\u001b[0m\u001b[0;34m**\u001b[0m\u001b[0mkwargs\u001b[0m\u001b[0;34m)\u001b[0m\u001b[0;34m\u001b[0m\u001b[0;34m\u001b[0m\u001b[0m\n\u001b[0m",
      "\u001b[0;32m~/Documents/transkingdom/synthetic_transkingdom_data/synthetic_fit_funcs.py\u001b[0m in \u001b[0;36mgenerate_synthetic_data\u001b[0;34m(num_taxa, num_samples, **kwargs)\u001b[0m\n\u001b[1;32m    491\u001b[0m         \u001b[0;32mif\u001b[0m \u001b[0mnp\u001b[0m\u001b[0;34m.\u001b[0m\u001b[0mmin\u001b[0m\u001b[0;34m(\u001b[0m\u001b[0mnp\u001b[0m\u001b[0;34m.\u001b[0m\u001b[0mlinalg\u001b[0m\u001b[0;34m.\u001b[0m\u001b[0msvd\u001b[0m\u001b[0;34m(\u001b[0m\u001b[0mcovar_matrix\u001b[0m\u001b[0;34m)\u001b[0m\u001b[0;34m[\u001b[0m\u001b[0;36m1\u001b[0m\u001b[0;34m]\u001b[0m\u001b[0;34m)\u001b[0m\u001b[0;34m.\u001b[0m\u001b[0mround\u001b[0m\u001b[0;34m(\u001b[0m\u001b[0;36m5\u001b[0m\u001b[0;34m)\u001b[0m\u001b[0;34m:\u001b[0m\u001b[0;34m\u001b[0m\u001b[0;34m\u001b[0m\u001b[0m\n\u001b[1;32m    492\u001b[0m \u001b[0;34m\u001b[0m\u001b[0m\n\u001b[0;32m--> 493\u001b[0;31m             \u001b[0mabsolute_samples\u001b[0m\u001b[0;34m,\u001b[0m\u001b[0mcovar_matrix_done\u001b[0m \u001b[0;34m=\u001b[0m \u001b[0mgenerate_synthetic_samples\u001b[0m\u001b[0;34m(\u001b[0m\u001b[0mnum_samples\u001b[0m\u001b[0;34m,\u001b[0m\u001b[0mcovar_matrix\u001b[0m\u001b[0;34m,\u001b[0m\u001b[0mmean_log_range\u001b[0m\u001b[0;34m=\u001b[0m\u001b[0mmean_lr\u001b[0m\u001b[0;34m,\u001b[0m\u001b[0mmean_log_center\u001b[0m\u001b[0;34m=\u001b[0m\u001b[0mmean_lc\u001b[0m\u001b[0;34m)\u001b[0m\u001b[0;34m\u001b[0m\u001b[0;34m\u001b[0m\u001b[0m\n\u001b[0m\u001b[1;32m    494\u001b[0m \u001b[0;34m\u001b[0m\u001b[0m\n\u001b[1;32m    495\u001b[0m         \u001b[0;32melse\u001b[0m\u001b[0;34m:\u001b[0m\u001b[0;34m\u001b[0m\u001b[0;34m\u001b[0m\u001b[0m\n",
      "\u001b[0;32m~/Documents/transkingdom/synthetic_transkingdom_data/synthetic_fit_funcs.py\u001b[0m in \u001b[0;36mgenerate_synthetic_samples\u001b[0;34m(NumSmp, covar, mean_log_range, mean_log_center)\u001b[0m\n\u001b[1;32m    372\u001b[0m     \u001b[0mprint\u001b[0m\u001b[0;34m(\u001b[0m\u001b[0;34m\"[generate_synthetic_samples] Drawing {} Samples for {} taxa\"\u001b[0m\u001b[0;34m.\u001b[0m\u001b[0mformat\u001b[0m\u001b[0;34m(\u001b[0m\u001b[0mNumSmp\u001b[0m\u001b[0;34m,\u001b[0m\u001b[0mN\u001b[0m\u001b[0;34m)\u001b[0m\u001b[0;34m)\u001b[0m\u001b[0;34m\u001b[0m\u001b[0;34m\u001b[0m\u001b[0m\n\u001b[1;32m    373\u001b[0m     \u001b[0;32mfor\u001b[0m \u001b[0mi\u001b[0m \u001b[0;32min\u001b[0m \u001b[0mtqdm\u001b[0m\u001b[0;34m(\u001b[0m\u001b[0mrange\u001b[0m\u001b[0;34m(\u001b[0m\u001b[0mNumSmp\u001b[0m\u001b[0;34m)\u001b[0m\u001b[0;34m)\u001b[0m\u001b[0;34m:\u001b[0m\u001b[0;34m\u001b[0m\u001b[0;34m\u001b[0m\u001b[0m\n\u001b[0;32m--> 374\u001b[0;31m         \u001b[0msynthetic_truth\u001b[0m\u001b[0;34m[\u001b[0m\u001b[0;34m\"S{}\"\u001b[0m\u001b[0;34m.\u001b[0m\u001b[0mformat\u001b[0m\u001b[0;34m(\u001b[0m\u001b[0mi\u001b[0m\u001b[0;34m)\u001b[0m\u001b[0;34m]\u001b[0m \u001b[0;34m=\u001b[0m \u001b[0mnp\u001b[0m\u001b[0;34m.\u001b[0m\u001b[0mexp\u001b[0m\u001b[0;34m(\u001b[0m\u001b[0mrv\u001b[0m\u001b[0;34m.\u001b[0m\u001b[0mrvs\u001b[0m\u001b[0;34m(\u001b[0m\u001b[0;34m)\u001b[0m\u001b[0;34m)\u001b[0m\u001b[0;34m\u001b[0m\u001b[0;34m\u001b[0m\u001b[0m\n\u001b[0m\u001b[1;32m    375\u001b[0m \u001b[0;34m\u001b[0m\u001b[0m\n\u001b[1;32m    376\u001b[0m     \u001b[0;32mreturn\u001b[0m \u001b[0msynthetic_truth\u001b[0m\u001b[0;34m,\u001b[0m\u001b[0;32mTrue\u001b[0m\u001b[0;34m\u001b[0m\u001b[0;34m\u001b[0m\u001b[0m\n",
      "\u001b[0;32m/opt/anaconda3/lib/python3.8/site-packages/scipy/stats/_multivariate.py\u001b[0m in \u001b[0;36mrvs\u001b[0;34m(self, size, random_state)\u001b[0m\n\u001b[1;32m    769\u001b[0m \u001b[0;34m\u001b[0m\u001b[0m\n\u001b[1;32m    770\u001b[0m     \u001b[0;32mdef\u001b[0m \u001b[0mrvs\u001b[0m\u001b[0;34m(\u001b[0m\u001b[0mself\u001b[0m\u001b[0;34m,\u001b[0m \u001b[0msize\u001b[0m\u001b[0;34m=\u001b[0m\u001b[0;36m1\u001b[0m\u001b[0;34m,\u001b[0m \u001b[0mrandom_state\u001b[0m\u001b[0;34m=\u001b[0m\u001b[0;32mNone\u001b[0m\u001b[0;34m)\u001b[0m\u001b[0;34m:\u001b[0m\u001b[0;34m\u001b[0m\u001b[0;34m\u001b[0m\u001b[0m\n\u001b[0;32m--> 771\u001b[0;31m         \u001b[0;32mreturn\u001b[0m \u001b[0mself\u001b[0m\u001b[0;34m.\u001b[0m\u001b[0m_dist\u001b[0m\u001b[0;34m.\u001b[0m\u001b[0mrvs\u001b[0m\u001b[0;34m(\u001b[0m\u001b[0mself\u001b[0m\u001b[0;34m.\u001b[0m\u001b[0mmean\u001b[0m\u001b[0;34m,\u001b[0m \u001b[0mself\u001b[0m\u001b[0;34m.\u001b[0m\u001b[0mcov\u001b[0m\u001b[0;34m,\u001b[0m \u001b[0msize\u001b[0m\u001b[0;34m,\u001b[0m \u001b[0mrandom_state\u001b[0m\u001b[0;34m)\u001b[0m\u001b[0;34m\u001b[0m\u001b[0;34m\u001b[0m\u001b[0m\n\u001b[0m\u001b[1;32m    772\u001b[0m \u001b[0;34m\u001b[0m\u001b[0m\n\u001b[1;32m    773\u001b[0m     \u001b[0;32mdef\u001b[0m \u001b[0mentropy\u001b[0m\u001b[0;34m(\u001b[0m\u001b[0mself\u001b[0m\u001b[0;34m)\u001b[0m\u001b[0;34m:\u001b[0m\u001b[0;34m\u001b[0m\u001b[0;34m\u001b[0m\u001b[0m\n",
      "\u001b[0;32m/opt/anaconda3/lib/python3.8/site-packages/scipy/stats/_multivariate.py\u001b[0m in \u001b[0;36mrvs\u001b[0;34m(self, mean, cov, size, random_state)\u001b[0m\n\u001b[1;32m    664\u001b[0m \u001b[0;34m\u001b[0m\u001b[0m\n\u001b[1;32m    665\u001b[0m         \u001b[0mrandom_state\u001b[0m \u001b[0;34m=\u001b[0m \u001b[0mself\u001b[0m\u001b[0;34m.\u001b[0m\u001b[0m_get_random_state\u001b[0m\u001b[0;34m(\u001b[0m\u001b[0mrandom_state\u001b[0m\u001b[0;34m)\u001b[0m\u001b[0;34m\u001b[0m\u001b[0;34m\u001b[0m\u001b[0m\n\u001b[0;32m--> 666\u001b[0;31m         \u001b[0mout\u001b[0m \u001b[0;34m=\u001b[0m \u001b[0mrandom_state\u001b[0m\u001b[0;34m.\u001b[0m\u001b[0mmultivariate_normal\u001b[0m\u001b[0;34m(\u001b[0m\u001b[0mmean\u001b[0m\u001b[0;34m,\u001b[0m \u001b[0mcov\u001b[0m\u001b[0;34m,\u001b[0m \u001b[0msize\u001b[0m\u001b[0;34m)\u001b[0m\u001b[0;34m\u001b[0m\u001b[0;34m\u001b[0m\u001b[0m\n\u001b[0m\u001b[1;32m    667\u001b[0m         \u001b[0;32mreturn\u001b[0m \u001b[0m_squeeze_output\u001b[0m\u001b[0;34m(\u001b[0m\u001b[0mout\u001b[0m\u001b[0;34m)\u001b[0m\u001b[0;34m\u001b[0m\u001b[0;34m\u001b[0m\u001b[0m\n\u001b[1;32m    668\u001b[0m \u001b[0;34m\u001b[0m\u001b[0m\n",
      "\u001b[0;32mmtrand.pyx\u001b[0m in \u001b[0;36mnumpy.random.mtrand.RandomState.multivariate_normal\u001b[0;34m()\u001b[0m\n",
      "\u001b[0;32m<__array_function__ internals>\u001b[0m in \u001b[0;36msvd\u001b[0;34m(*args, **kwargs)\u001b[0m\n",
      "\u001b[0;32m/opt/anaconda3/lib/python3.8/site-packages/numpy/linalg/linalg.py\u001b[0m in \u001b[0;36msvd\u001b[0;34m(a, full_matrices, compute_uv, hermitian)\u001b[0m\n\u001b[1;32m   1658\u001b[0m \u001b[0;34m\u001b[0m\u001b[0m\n\u001b[1;32m   1659\u001b[0m         \u001b[0msignature\u001b[0m \u001b[0;34m=\u001b[0m \u001b[0;34m'D->DdD'\u001b[0m \u001b[0;32mif\u001b[0m \u001b[0misComplexType\u001b[0m\u001b[0;34m(\u001b[0m\u001b[0mt\u001b[0m\u001b[0;34m)\u001b[0m \u001b[0;32melse\u001b[0m \u001b[0;34m'd->ddd'\u001b[0m\u001b[0;34m\u001b[0m\u001b[0;34m\u001b[0m\u001b[0m\n\u001b[0;32m-> 1660\u001b[0;31m         \u001b[0mu\u001b[0m\u001b[0;34m,\u001b[0m \u001b[0ms\u001b[0m\u001b[0;34m,\u001b[0m \u001b[0mvh\u001b[0m \u001b[0;34m=\u001b[0m \u001b[0mgufunc\u001b[0m\u001b[0;34m(\u001b[0m\u001b[0ma\u001b[0m\u001b[0;34m,\u001b[0m \u001b[0msignature\u001b[0m\u001b[0;34m=\u001b[0m\u001b[0msignature\u001b[0m\u001b[0;34m,\u001b[0m \u001b[0mextobj\u001b[0m\u001b[0;34m=\u001b[0m\u001b[0mextobj\u001b[0m\u001b[0;34m)\u001b[0m\u001b[0;34m\u001b[0m\u001b[0;34m\u001b[0m\u001b[0m\n\u001b[0m\u001b[1;32m   1661\u001b[0m         \u001b[0mu\u001b[0m \u001b[0;34m=\u001b[0m \u001b[0mu\u001b[0m\u001b[0;34m.\u001b[0m\u001b[0mastype\u001b[0m\u001b[0;34m(\u001b[0m\u001b[0mresult_t\u001b[0m\u001b[0;34m,\u001b[0m \u001b[0mcopy\u001b[0m\u001b[0;34m=\u001b[0m\u001b[0;32mFalse\u001b[0m\u001b[0;34m)\u001b[0m\u001b[0;34m\u001b[0m\u001b[0;34m\u001b[0m\u001b[0m\n\u001b[1;32m   1662\u001b[0m         \u001b[0ms\u001b[0m \u001b[0;34m=\u001b[0m \u001b[0ms\u001b[0m\u001b[0;34m.\u001b[0m\u001b[0mastype\u001b[0m\u001b[0;34m(\u001b[0m\u001b[0m_realType\u001b[0m\u001b[0;34m(\u001b[0m\u001b[0mresult_t\u001b[0m\u001b[0;34m)\u001b[0m\u001b[0;34m,\u001b[0m \u001b[0mcopy\u001b[0m\u001b[0;34m=\u001b[0m\u001b[0;32mFalse\u001b[0m\u001b[0;34m)\u001b[0m\u001b[0;34m\u001b[0m\u001b[0;34m\u001b[0m\u001b[0m\n",
      "\u001b[0;31mKeyboardInterrupt\u001b[0m: "
     ]
    }
   ],
   "source": [
    "kwargs = {\n",
    "    'max_variance':max_var,\n",
    "    'min_variance':min_var,\n",
    "    'data_types':ns,\n",
    "    'graph_model':grmod,\n",
    "    'sparsity':gsp,\n",
    "    'mean_log_range':mean_spread,\n",
    "    'mean_log_center':mean_center,\n",
    "    'simulate_reads_tasks':simulate_reads_tasks,\n",
    "    'average_read_depth':avgdpth, \n",
    "    'std_of_read_depth':stddpth,\n",
    "    'truth_sparsity_adjustment':sparse_adjust,\n",
    "    'truth_bias_strength':bias_str,\n",
    "    'truth_bias_structure':bias_blocks\n",
    "}\n",
    "synthetic_data = generate_synthetic_data(N,M,**kwargs)"
   ]
  },
  {
   "cell_type": "markdown",
   "id": "25a6f7fe",
   "metadata": {},
   "source": [
    "### What does it give us?"
   ]
  },
  {
   "cell_type": "code",
   "execution_count": 18,
   "id": "46b1a3dd",
   "metadata": {},
   "outputs": [
    {
     "data": {
      "text/plain": [
       "dict_keys(['GroundTruthCovariance', 'GraphSparsity', 'AbsoluteSamples', 'CombinedReads', 'SeparatedReads', 'GroupOrder', 'ReadDepths', 'TotalRatioVariance', 'DataSplit'])"
      ]
     },
     "execution_count": 18,
     "metadata": {},
     "output_type": "execute_result"
    }
   ],
   "source": [
    "synthetic_data.keys()"
   ]
  },
  {
   "cell_type": "markdown",
   "id": "7e155be4",
   "metadata": {},
   "source": [
    "The ``DataSplit`` field tells us where our first group (e.g. bacteria) ends our second begins:"
   ]
  },
  {
   "cell_type": "code",
   "execution_count": 19,
   "id": "0540d138",
   "metadata": {},
   "outputs": [
    {
     "data": {
      "text/plain": [
       "array([  0, 253, 500])"
      ]
     },
     "execution_count": 19,
     "metadata": {},
     "output_type": "execute_result"
    }
   ],
   "source": [
    "synthetic_data['DataSplit']"
   ]
  },
  {
   "cell_type": "code",
   "execution_count": 20,
   "id": "44567480",
   "metadata": {},
   "outputs": [
    {
     "data": {
      "text/plain": [
       "dict_keys(['Set1', 'Set2'])"
      ]
     },
     "execution_count": 20,
     "metadata": {},
     "output_type": "execute_result"
    }
   ],
   "source": [
    "synthetic_data[\"SeparatedReads\"].keys()"
   ]
  },
  {
   "cell_type": "markdown",
   "id": "c1f60681",
   "metadata": {},
   "source": [
    "The ```GroundTruthCovariance``` field gives the covariance matrix used to generate the data. Below, we show the positive/negative entry pattern for this matrix, with the diagonal removed (and ignoring magnitude). Blue dots represent positive interactions and red represent negative. The black lines indicate the two data sets, so the top left box is intra-kingdom 1, the bottome right is intra-kingdom 2, and the off-diagonal blocks are cross-kingddom edges."
   ]
  },
  {
   "cell_type": "code",
   "execution_count": 21,
   "id": "3143017f",
   "metadata": {},
   "outputs": [
    {
     "data": {
      "image/png": "[encoded data removed]",
      "text/plain": [
       "<Figure size 720x720 with 1 Axes>"
      ]
     },
     "metadata": {},
     "output_type": "display_data"
    }
   ],
   "source": [
    "fig,ax = plt.subplots(figsize = (10,10))\n",
    "\n",
    "ax.xaxis.set_tick_params(labelbottom=False)\n",
    "ax.yaxis.set_tick_params(labelleft=False)\n",
    "\n",
    "sb.heatmap(topQnet(synthetic_data[\"GroundTruthCovariance\"].round(8),q = 0),cmap = \"bwr_r\",cbar = False,ax = ax,center = 0)\n",
    "ax.plot([0,1000],[synthetic_data['DataSplit'][1],synthetic_data['DataSplit'][1]],color = 'k')\n",
    "ax.plot([synthetic_data['DataSplit'][1],synthetic_data['DataSplit'][1]],[0,1000],color = 'k')\n",
    "\n",
    "ax.set_xticks([])\n",
    "ax.set_yticks([]);"
   ]
  },
  {
   "cell_type": "markdown",
   "id": "72ca102e",
   "metadata": {},
   "source": [
    "We can also check for bias in edges in groups."
   ]
  },
  {
   "cell_type": "code",
   "execution_count": 22,
   "id": "a5204a69",
   "metadata": {},
   "outputs": [
    {
     "data": {
      "text/plain": [
       "<AxesSubplot:xlabel='Block', ylabel='Edge'>"
      ]
     },
     "execution_count": 22,
     "metadata": {},
     "output_type": "execute_result"
    },
    {
     "data": {
      "image/png": "[encoded data removed]",
      "text/plain": [
       "<Figure size 432x288 with 1 Axes>"
      ]
     },
     "metadata": {
      "needs_background": "light"
     },
     "output_type": "display_data"
    }
   ],
   "source": [
    "kingdom1 = synthetic_data[\"GroundTruthCovariance\"][:synthetic_data['DataSplit'][1],:synthetic_data['DataSplit'][1]].flatten()\n",
    "kingdom2 = synthetic_data[\"GroundTruthCovariance\"][synthetic_data['DataSplit'][1]:,synthetic_data['DataSplit'][1]:].flatten()\n",
    "Xkingdom = synthetic_data[\"GroundTruthCovariance\"][:synthetic_data['DataSplit'][1],synthetic_data['DataSplit'][1]:].flatten()\n",
    "alledges = pd.DataFrame(np.array([np.concatenate([kingdom1,kingdom2,Xkingdom]).round(5),[\"Kingdom 1\"]*len(kingdom1)+[\"Kingdom 2\"]*len(kingdom2) + [\"Cross Kingdom\"]*len(Xkingdom)]).T)\n",
    "alledges.columns = [\"Edge\",\"Block\"]\n",
    "alledges['Edge'] = alledges['Edge'].astype(float)\n",
    "sb.boxplot(data = alledges[alledges[\"Edge\"] != 0],y = \"Edge\",x = \"Block\")"
   ]
  },
  {
   "cell_type": "code",
   "execution_count": 50,
   "id": "56b71d06",
   "metadata": {},
   "outputs": [
    {
     "data": {
      "text/plain": [
       "(0.5184760156070691, 0.6165863066538091, 1.0)"
      ]
     },
     "execution_count": 50,
     "metadata": {},
     "output_type": "execute_result"
    }
   ],
   "source": [
    "sum(kingdom1.round(8)>0)/sum(kingdom1.round(8) != 0),sum(kingdom2.round(8)>0)/sum(kingdom2.round(8) != 0),sum(Xkingdom.round(8)>0)/sum(Xkingdom.round(8) != 0)"
   ]
  },
  {
   "cell_type": "markdown",
   "id": "161b2d16",
   "metadata": {},
   "source": [
    "The ```GraphSparsity``` field tells us the proportion of nonzero entries in the ground truth covariance matrix. This represents the proportion of pairs of taxa that interact in our simulated environment."
   ]
  },
  {
   "cell_type": "code",
   "execution_count": 108,
   "id": "b1c32bfa",
   "metadata": {},
   "outputs": [
    {
     "data": {
      "text/plain": [
       "0.041162324649298594"
      ]
     },
     "execution_count": 108,
     "metadata": {},
     "output_type": "execute_result"
    }
   ],
   "source": [
    "synthetic_data['GraphSparsity']"
   ]
  },
  {
   "cell_type": "markdown",
   "id": "d13b6929",
   "metadata": {},
   "source": [
    "The ```AbsoluteSamples``` field contains the table of synthetic absolute abundances of each taxa (rows) in each sample (columns) that was simulated. These are drawn from a log-normal distribution, meaning that all taxa are present in every sample, but many at a very low abundance. This data is not possible to collect in the real world. Note that taxa are simply numbered from 0 to N-1."
   ]
  },
  {
   "cell_type": "code",
   "execution_count": 109,
   "id": "01e01b7a",
   "metadata": {},
   "outputs": [
    {
     "data": {
      "text/html": [
       "<div>\n",
       "<style scoped>\n",
       "    .dataframe tbody tr th:only-of-type {\n",
       "        vertical-align: middle;\n",
       "    }\n",
       "\n",
       "    .dataframe tbody tr th {\n",
       "        vertical-align: top;\n",
       "    }\n",
       "\n",
       "    .dataframe thead th {\n",
       "        text-align: right;\n",
       "    }\n",
       "</style>\n",
       "<table border=\"1\" class=\"dataframe\">\n",
       "  <thead>\n",
       "    <tr style=\"text-align: right;\">\n",
       "      <th></th>\n",
       "      <th>S0</th>\n",
       "      <th>S1</th>\n",
       "      <th>S2</th>\n",
       "      <th>S3</th>\n",
       "      <th>S4</th>\n",
       "      <th>S5</th>\n",
       "      <th>S6</th>\n",
       "      <th>S7</th>\n",
       "      <th>S8</th>\n",
       "      <th>S9</th>\n",
       "      <th>...</th>\n",
       "      <th>S140</th>\n",
       "      <th>S141</th>\n",
       "      <th>S142</th>\n",
       "      <th>S143</th>\n",
       "      <th>S144</th>\n",
       "      <th>S145</th>\n",
       "      <th>S146</th>\n",
       "      <th>S147</th>\n",
       "      <th>S148</th>\n",
       "      <th>S149</th>\n",
       "    </tr>\n",
       "  </thead>\n",
       "  <tbody>\n",
       "    <tr>\n",
       "      <th>0</th>\n",
       "      <td>0.206851</td>\n",
       "      <td>0.319479</td>\n",
       "      <td>0.144049</td>\n",
       "      <td>0.266253</td>\n",
       "      <td>0.241467</td>\n",
       "      <td>0.126798</td>\n",
       "      <td>0.169195</td>\n",
       "      <td>0.226380</td>\n",
       "      <td>0.278721</td>\n",
       "      <td>0.121094</td>\n",
       "      <td>...</td>\n",
       "      <td>0.235664</td>\n",
       "      <td>0.187843</td>\n",
       "      <td>0.221304</td>\n",
       "      <td>0.138918</td>\n",
       "      <td>0.369146</td>\n",
       "      <td>0.311293</td>\n",
       "      <td>0.189208</td>\n",
       "      <td>0.150510</td>\n",
       "      <td>0.163964</td>\n",
       "      <td>0.302255</td>\n",
       "    </tr>\n",
       "    <tr>\n",
       "      <th>1</th>\n",
       "      <td>1.324924</td>\n",
       "      <td>2.126087</td>\n",
       "      <td>0.262886</td>\n",
       "      <td>0.145616</td>\n",
       "      <td>0.175187</td>\n",
       "      <td>0.159738</td>\n",
       "      <td>0.368684</td>\n",
       "      <td>1.979624</td>\n",
       "      <td>0.571089</td>\n",
       "      <td>0.038247</td>\n",
       "      <td>...</td>\n",
       "      <td>1.743859</td>\n",
       "      <td>0.515653</td>\n",
       "      <td>0.575315</td>\n",
       "      <td>0.190190</td>\n",
       "      <td>4.484271</td>\n",
       "      <td>0.289501</td>\n",
       "      <td>4.217794</td>\n",
       "      <td>0.493455</td>\n",
       "      <td>1.114790</td>\n",
       "      <td>0.350141</td>\n",
       "    </tr>\n",
       "    <tr>\n",
       "      <th>2</th>\n",
       "      <td>0.557841</td>\n",
       "      <td>1.032205</td>\n",
       "      <td>1.824755</td>\n",
       "      <td>0.020507</td>\n",
       "      <td>0.309658</td>\n",
       "      <td>1.297989</td>\n",
       "      <td>0.458350</td>\n",
       "      <td>3.561440</td>\n",
       "      <td>1.295318</td>\n",
       "      <td>0.614865</td>\n",
       "      <td>...</td>\n",
       "      <td>3.203597</td>\n",
       "      <td>0.064004</td>\n",
       "      <td>0.046146</td>\n",
       "      <td>0.140067</td>\n",
       "      <td>0.616171</td>\n",
       "      <td>0.312452</td>\n",
       "      <td>1.527052</td>\n",
       "      <td>0.424610</td>\n",
       "      <td>0.150366</td>\n",
       "      <td>2.809827</td>\n",
       "    </tr>\n",
       "    <tr>\n",
       "      <th>3</th>\n",
       "      <td>0.731986</td>\n",
       "      <td>0.737452</td>\n",
       "      <td>1.510675</td>\n",
       "      <td>1.161495</td>\n",
       "      <td>1.236112</td>\n",
       "      <td>0.630246</td>\n",
       "      <td>1.391427</td>\n",
       "      <td>0.409618</td>\n",
       "      <td>0.670082</td>\n",
       "      <td>0.878800</td>\n",
       "      <td>...</td>\n",
       "      <td>0.635783</td>\n",
       "      <td>0.814339</td>\n",
       "      <td>0.777925</td>\n",
       "      <td>1.265082</td>\n",
       "      <td>1.158828</td>\n",
       "      <td>0.676163</td>\n",
       "      <td>0.436419</td>\n",
       "      <td>0.546633</td>\n",
       "      <td>1.502213</td>\n",
       "      <td>0.672692</td>\n",
       "    </tr>\n",
       "    <tr>\n",
       "      <th>4</th>\n",
       "      <td>1.660323</td>\n",
       "      <td>2.327800</td>\n",
       "      <td>0.605367</td>\n",
       "      <td>5.649679</td>\n",
       "      <td>4.407956</td>\n",
       "      <td>0.514480</td>\n",
       "      <td>5.166895</td>\n",
       "      <td>4.473462</td>\n",
       "      <td>3.526346</td>\n",
       "      <td>3.868011</td>\n",
       "      <td>...</td>\n",
       "      <td>1.870919</td>\n",
       "      <td>1.761595</td>\n",
       "      <td>2.811904</td>\n",
       "      <td>3.842246</td>\n",
       "      <td>2.315103</td>\n",
       "      <td>1.092174</td>\n",
       "      <td>3.243532</td>\n",
       "      <td>0.910014</td>\n",
       "      <td>1.165841</td>\n",
       "      <td>3.246331</td>\n",
       "    </tr>\n",
       "    <tr>\n",
       "      <th>5</th>\n",
       "      <td>3.408149</td>\n",
       "      <td>0.195403</td>\n",
       "      <td>0.255106</td>\n",
       "      <td>2.106130</td>\n",
       "      <td>0.260838</td>\n",
       "      <td>1.590099</td>\n",
       "      <td>0.298289</td>\n",
       "      <td>1.698537</td>\n",
       "      <td>0.210876</td>\n",
       "      <td>1.024898</td>\n",
       "      <td>...</td>\n",
       "      <td>0.278303</td>\n",
       "      <td>0.117710</td>\n",
       "      <td>0.415849</td>\n",
       "      <td>5.730109</td>\n",
       "      <td>0.072340</td>\n",
       "      <td>2.270446</td>\n",
       "      <td>0.119889</td>\n",
       "      <td>0.444134</td>\n",
       "      <td>18.281873</td>\n",
       "      <td>0.121075</td>\n",
       "    </tr>\n",
       "    <tr>\n",
       "      <th>6</th>\n",
       "      <td>30.971491</td>\n",
       "      <td>1.127244</td>\n",
       "      <td>0.225044</td>\n",
       "      <td>0.029557</td>\n",
       "      <td>0.746274</td>\n",
       "      <td>2.646748</td>\n",
       "      <td>0.097425</td>\n",
       "      <td>2.572064</td>\n",
       "      <td>9.733374</td>\n",
       "      <td>1.223701</td>\n",
       "      <td>...</td>\n",
       "      <td>0.103394</td>\n",
       "      <td>1.135847</td>\n",
       "      <td>2.659265</td>\n",
       "      <td>8.568529</td>\n",
       "      <td>1.658016</td>\n",
       "      <td>0.793231</td>\n",
       "      <td>1.775258</td>\n",
       "      <td>18.942158</td>\n",
       "      <td>1.702085</td>\n",
       "      <td>0.505739</td>\n",
       "    </tr>\n",
       "    <tr>\n",
       "      <th>7</th>\n",
       "      <td>0.238982</td>\n",
       "      <td>0.175299</td>\n",
       "      <td>0.285807</td>\n",
       "      <td>0.421842</td>\n",
       "      <td>0.119519</td>\n",
       "      <td>0.368724</td>\n",
       "      <td>0.213593</td>\n",
       "      <td>0.069048</td>\n",
       "      <td>0.302275</td>\n",
       "      <td>0.211513</td>\n",
       "      <td>...</td>\n",
       "      <td>0.122463</td>\n",
       "      <td>0.218448</td>\n",
       "      <td>0.626824</td>\n",
       "      <td>0.169915</td>\n",
       "      <td>0.399856</td>\n",
       "      <td>0.342429</td>\n",
       "      <td>0.338090</td>\n",
       "      <td>0.213452</td>\n",
       "      <td>0.163807</td>\n",
       "      <td>0.266714</td>\n",
       "    </tr>\n",
       "    <tr>\n",
       "      <th>8</th>\n",
       "      <td>1.077119</td>\n",
       "      <td>0.195498</td>\n",
       "      <td>0.173053</td>\n",
       "      <td>2.000147</td>\n",
       "      <td>0.245640</td>\n",
       "      <td>0.635885</td>\n",
       "      <td>0.540666</td>\n",
       "      <td>0.108509</td>\n",
       "      <td>0.024470</td>\n",
       "      <td>0.503231</td>\n",
       "      <td>...</td>\n",
       "      <td>0.075568</td>\n",
       "      <td>1.629381</td>\n",
       "      <td>0.114987</td>\n",
       "      <td>0.453151</td>\n",
       "      <td>0.035092</td>\n",
       "      <td>0.829881</td>\n",
       "      <td>0.139668</td>\n",
       "      <td>0.579028</td>\n",
       "      <td>0.037032</td>\n",
       "      <td>1.879051</td>\n",
       "    </tr>\n",
       "    <tr>\n",
       "      <th>9</th>\n",
       "      <td>1.407110</td>\n",
       "      <td>0.043738</td>\n",
       "      <td>0.414788</td>\n",
       "      <td>7.587801</td>\n",
       "      <td>0.166095</td>\n",
       "      <td>0.042423</td>\n",
       "      <td>9.541775</td>\n",
       "      <td>4.852974</td>\n",
       "      <td>0.709608</td>\n",
       "      <td>4.774640</td>\n",
       "      <td>...</td>\n",
       "      <td>0.197581</td>\n",
       "      <td>0.123505</td>\n",
       "      <td>0.368903</td>\n",
       "      <td>1.478493</td>\n",
       "      <td>1.908562</td>\n",
       "      <td>0.280668</td>\n",
       "      <td>0.493051</td>\n",
       "      <td>0.453865</td>\n",
       "      <td>0.269652</td>\n",
       "      <td>1.802635</td>\n",
       "    </tr>\n",
       "  </tbody>\n",
       "</table>\n",
       "<p>10 rows × 150 columns</p>\n",
       "</div>"
      ],
      "text/plain": [
       "          S0        S1        S2        S3        S4        S5        S6  \\\n",
       "0   0.206851  0.319479  0.144049  0.266253  0.241467  0.126798  0.169195   \n",
       "1   1.324924  2.126087  0.262886  0.145616  0.175187  0.159738  0.368684   \n",
       "2   0.557841  1.032205  1.824755  0.020507  0.309658  1.297989  0.458350   \n",
       "3   0.731986  0.737452  1.510675  1.161495  1.236112  0.630246  1.391427   \n",
       "4   1.660323  2.327800  0.605367  5.649679  4.407956  0.514480  5.166895   \n",
       "5   3.408149  0.195403  0.255106  2.106130  0.260838  1.590099  0.298289   \n",
       "6  30.971491  1.127244  0.225044  0.029557  0.746274  2.646748  0.097425   \n",
       "7   0.238982  0.175299  0.285807  0.421842  0.119519  0.368724  0.213593   \n",
       "8   1.077119  0.195498  0.173053  2.000147  0.245640  0.635885  0.540666   \n",
       "9   1.407110  0.043738  0.414788  7.587801  0.166095  0.042423  9.541775   \n",
       "\n",
       "         S7        S8        S9  ...      S140      S141      S142      S143  \\\n",
       "0  0.226380  0.278721  0.121094  ...  0.235664  0.187843  0.221304  0.138918   \n",
       "1  1.979624  0.571089  0.038247  ...  1.743859  0.515653  0.575315  0.190190   \n",
       "2  3.561440  1.295318  0.614865  ...  3.203597  0.064004  0.046146  0.140067   \n",
       "3  0.409618  0.670082  0.878800  ...  0.635783  0.814339  0.777925  1.265082   \n",
       "4  4.473462  3.526346  3.868011  ...  1.870919  1.761595  2.811904  3.842246   \n",
       "5  1.698537  0.210876  1.024898  ...  0.278303  0.117710  0.415849  5.730109   \n",
       "6  2.572064  9.733374  1.223701  ...  0.103394  1.135847  2.659265  8.568529   \n",
       "7  0.069048  0.302275  0.211513  ...  0.122463  0.218448  0.626824  0.169915   \n",
       "8  0.108509  0.024470  0.503231  ...  0.075568  1.629381  0.114987  0.453151   \n",
       "9  4.852974  0.709608  4.774640  ...  0.197581  0.123505  0.368903  1.478493   \n",
       "\n",
       "       S144      S145      S146       S147       S148      S149  \n",
       "0  0.369146  0.311293  0.189208   0.150510   0.163964  0.302255  \n",
       "1  4.484271  0.289501  4.217794   0.493455   1.114790  0.350141  \n",
       "2  0.616171  0.312452  1.527052   0.424610   0.150366  2.809827  \n",
       "3  1.158828  0.676163  0.436419   0.546633   1.502213  0.672692  \n",
       "4  2.315103  1.092174  3.243532   0.910014   1.165841  3.246331  \n",
       "5  0.072340  2.270446  0.119889   0.444134  18.281873  0.121075  \n",
       "6  1.658016  0.793231  1.775258  18.942158   1.702085  0.505739  \n",
       "7  0.399856  0.342429  0.338090   0.213452   0.163807  0.266714  \n",
       "8  0.035092  0.829881  0.139668   0.579028   0.037032  1.879051  \n",
       "9  1.908562  0.280668  0.493051   0.453865   0.269652  1.802635  \n",
       "\n",
       "[10 rows x 150 columns]"
      ]
     },
     "execution_count": 109,
     "metadata": {},
     "output_type": "execute_result"
    }
   ],
   "source": [
    "synthetic_data['AbsoluteSamples'].head(10)"
   ]
  },
  {
   "cell_type": "markdown",
   "id": "aaaed599",
   "metadata": {},
   "source": [
    "The ```CombinedReads``` field contains a single table of simulated read counts for the entire combined (paired) data-set. This would be the result of concatenating e.g. the outputs of 16S sequencing and ITS sequencing."
   ]
  },
  {
   "cell_type": "code",
   "execution_count": 110,
   "id": "058b139f",
   "metadata": {},
   "outputs": [
    {
     "data": {
      "text/html": [
       "<div>\n",
       "<style scoped>\n",
       "    .dataframe tbody tr th:only-of-type {\n",
       "        vertical-align: middle;\n",
       "    }\n",
       "\n",
       "    .dataframe tbody tr th {\n",
       "        vertical-align: top;\n",
       "    }\n",
       "\n",
       "    .dataframe thead th {\n",
       "        text-align: right;\n",
       "    }\n",
       "</style>\n",
       "<table border=\"1\" class=\"dataframe\">\n",
       "  <thead>\n",
       "    <tr style=\"text-align: right;\">\n",
       "      <th></th>\n",
       "      <th>S0</th>\n",
       "      <th>S1</th>\n",
       "      <th>S2</th>\n",
       "      <th>S3</th>\n",
       "      <th>S4</th>\n",
       "      <th>S5</th>\n",
       "      <th>S6</th>\n",
       "      <th>S7</th>\n",
       "      <th>S8</th>\n",
       "      <th>S9</th>\n",
       "      <th>...</th>\n",
       "      <th>S140</th>\n",
       "      <th>S141</th>\n",
       "      <th>S142</th>\n",
       "      <th>S143</th>\n",
       "      <th>S144</th>\n",
       "      <th>S145</th>\n",
       "      <th>S146</th>\n",
       "      <th>S147</th>\n",
       "      <th>S148</th>\n",
       "      <th>S149</th>\n",
       "    </tr>\n",
       "  </thead>\n",
       "  <tbody>\n",
       "    <tr>\n",
       "      <th>0</th>\n",
       "      <td>18</td>\n",
       "      <td>32</td>\n",
       "      <td>10</td>\n",
       "      <td>38</td>\n",
       "      <td>37</td>\n",
       "      <td>11</td>\n",
       "      <td>28</td>\n",
       "      <td>33</td>\n",
       "      <td>34</td>\n",
       "      <td>16</td>\n",
       "      <td>...</td>\n",
       "      <td>23</td>\n",
       "      <td>20</td>\n",
       "      <td>42</td>\n",
       "      <td>29</td>\n",
       "      <td>31</td>\n",
       "      <td>34</td>\n",
       "      <td>18</td>\n",
       "      <td>32</td>\n",
       "      <td>29</td>\n",
       "      <td>48</td>\n",
       "    </tr>\n",
       "    <tr>\n",
       "      <th>1</th>\n",
       "      <td>110</td>\n",
       "      <td>192</td>\n",
       "      <td>14</td>\n",
       "      <td>13</td>\n",
       "      <td>31</td>\n",
       "      <td>20</td>\n",
       "      <td>36</td>\n",
       "      <td>293</td>\n",
       "      <td>65</td>\n",
       "      <td>10</td>\n",
       "      <td>...</td>\n",
       "      <td>109</td>\n",
       "      <td>35</td>\n",
       "      <td>84</td>\n",
       "      <td>30</td>\n",
       "      <td>319</td>\n",
       "      <td>37</td>\n",
       "      <td>449</td>\n",
       "      <td>83</td>\n",
       "      <td>142</td>\n",
       "      <td>51</td>\n",
       "    </tr>\n",
       "    <tr>\n",
       "      <th>2</th>\n",
       "      <td>51</td>\n",
       "      <td>104</td>\n",
       "      <td>96</td>\n",
       "      <td>7</td>\n",
       "      <td>46</td>\n",
       "      <td>184</td>\n",
       "      <td>37</td>\n",
       "      <td>526</td>\n",
       "      <td>159</td>\n",
       "      <td>61</td>\n",
       "      <td>...</td>\n",
       "      <td>216</td>\n",
       "      <td>4</td>\n",
       "      <td>5</td>\n",
       "      <td>21</td>\n",
       "      <td>40</td>\n",
       "      <td>40</td>\n",
       "      <td>187</td>\n",
       "      <td>77</td>\n",
       "      <td>19</td>\n",
       "      <td>464</td>\n",
       "    </tr>\n",
       "    <tr>\n",
       "      <th>3</th>\n",
       "      <td>54</td>\n",
       "      <td>56</td>\n",
       "      <td>73</td>\n",
       "      <td>158</td>\n",
       "      <td>175</td>\n",
       "      <td>72</td>\n",
       "      <td>148</td>\n",
       "      <td>65</td>\n",
       "      <td>88</td>\n",
       "      <td>120</td>\n",
       "      <td>...</td>\n",
       "      <td>41</td>\n",
       "      <td>72</td>\n",
       "      <td>116</td>\n",
       "      <td>242</td>\n",
       "      <td>97</td>\n",
       "      <td>91</td>\n",
       "      <td>53</td>\n",
       "      <td>115</td>\n",
       "      <td>218</td>\n",
       "      <td>99</td>\n",
       "    </tr>\n",
       "    <tr>\n",
       "      <th>4</th>\n",
       "      <td>133</td>\n",
       "      <td>210</td>\n",
       "      <td>24</td>\n",
       "      <td>692</td>\n",
       "      <td>706</td>\n",
       "      <td>74</td>\n",
       "      <td>532</td>\n",
       "      <td>646</td>\n",
       "      <td>432</td>\n",
       "      <td>432</td>\n",
       "      <td>...</td>\n",
       "      <td>138</td>\n",
       "      <td>149</td>\n",
       "      <td>465</td>\n",
       "      <td>638</td>\n",
       "      <td>153</td>\n",
       "      <td>135</td>\n",
       "      <td>343</td>\n",
       "      <td>171</td>\n",
       "      <td>168</td>\n",
       "      <td>469</td>\n",
       "    </tr>\n",
       "    <tr>\n",
       "      <th>5</th>\n",
       "      <td>288</td>\n",
       "      <td>14</td>\n",
       "      <td>6</td>\n",
       "      <td>244</td>\n",
       "      <td>33</td>\n",
       "      <td>208</td>\n",
       "      <td>23</td>\n",
       "      <td>262</td>\n",
       "      <td>25</td>\n",
       "      <td>123</td>\n",
       "      <td>...</td>\n",
       "      <td>17</td>\n",
       "      <td>9</td>\n",
       "      <td>79</td>\n",
       "      <td>1010</td>\n",
       "      <td>10</td>\n",
       "      <td>290</td>\n",
       "      <td>13</td>\n",
       "      <td>75</td>\n",
       "      <td>2582</td>\n",
       "      <td>27</td>\n",
       "    </tr>\n",
       "    <tr>\n",
       "      <th>6</th>\n",
       "      <td>2608</td>\n",
       "      <td>106</td>\n",
       "      <td>18</td>\n",
       "      <td>1</td>\n",
       "      <td>116</td>\n",
       "      <td>379</td>\n",
       "      <td>10</td>\n",
       "      <td>387</td>\n",
       "      <td>1200</td>\n",
       "      <td>159</td>\n",
       "      <td>...</td>\n",
       "      <td>3</td>\n",
       "      <td>86</td>\n",
       "      <td>419</td>\n",
       "      <td>1399</td>\n",
       "      <td>124</td>\n",
       "      <td>95</td>\n",
       "      <td>201</td>\n",
       "      <td>3642</td>\n",
       "      <td>226</td>\n",
       "      <td>79</td>\n",
       "    </tr>\n",
       "    <tr>\n",
       "      <th>7</th>\n",
       "      <td>20</td>\n",
       "      <td>16</td>\n",
       "      <td>15</td>\n",
       "      <td>54</td>\n",
       "      <td>22</td>\n",
       "      <td>43</td>\n",
       "      <td>28</td>\n",
       "      <td>9</td>\n",
       "      <td>28</td>\n",
       "      <td>32</td>\n",
       "      <td>...</td>\n",
       "      <td>15</td>\n",
       "      <td>15</td>\n",
       "      <td>89</td>\n",
       "      <td>33</td>\n",
       "      <td>24</td>\n",
       "      <td>49</td>\n",
       "      <td>31</td>\n",
       "      <td>54</td>\n",
       "      <td>25</td>\n",
       "      <td>33</td>\n",
       "    </tr>\n",
       "    <tr>\n",
       "      <th>8</th>\n",
       "      <td>93</td>\n",
       "      <td>17</td>\n",
       "      <td>7</td>\n",
       "      <td>239</td>\n",
       "      <td>35</td>\n",
       "      <td>80</td>\n",
       "      <td>61</td>\n",
       "      <td>17</td>\n",
       "      <td>3</td>\n",
       "      <td>62</td>\n",
       "      <td>...</td>\n",
       "      <td>4</td>\n",
       "      <td>148</td>\n",
       "      <td>20</td>\n",
       "      <td>80</td>\n",
       "      <td>4</td>\n",
       "      <td>108</td>\n",
       "      <td>17</td>\n",
       "      <td>109</td>\n",
       "      <td>2</td>\n",
       "      <td>260</td>\n",
       "    </tr>\n",
       "    <tr>\n",
       "      <th>9</th>\n",
       "      <td>105</td>\n",
       "      <td>4</td>\n",
       "      <td>26</td>\n",
       "      <td>918</td>\n",
       "      <td>29</td>\n",
       "      <td>4</td>\n",
       "      <td>971</td>\n",
       "      <td>711</td>\n",
       "      <td>82</td>\n",
       "      <td>563</td>\n",
       "      <td>...</td>\n",
       "      <td>13</td>\n",
       "      <td>8</td>\n",
       "      <td>59</td>\n",
       "      <td>246</td>\n",
       "      <td>145</td>\n",
       "      <td>38</td>\n",
       "      <td>65</td>\n",
       "      <td>92</td>\n",
       "      <td>43</td>\n",
       "      <td>282</td>\n",
       "    </tr>\n",
       "  </tbody>\n",
       "</table>\n",
       "<p>10 rows × 150 columns</p>\n",
       "</div>"
      ],
      "text/plain": [
       "     S0   S1  S2   S3   S4   S5   S6   S7    S8   S9  ...  S140  S141  S142  \\\n",
       "0    18   32  10   38   37   11   28   33    34   16  ...    23    20    42   \n",
       "1   110  192  14   13   31   20   36  293    65   10  ...   109    35    84   \n",
       "2    51  104  96    7   46  184   37  526   159   61  ...   216     4     5   \n",
       "3    54   56  73  158  175   72  148   65    88  120  ...    41    72   116   \n",
       "4   133  210  24  692  706   74  532  646   432  432  ...   138   149   465   \n",
       "5   288   14   6  244   33  208   23  262    25  123  ...    17     9    79   \n",
       "6  2608  106  18    1  116  379   10  387  1200  159  ...     3    86   419   \n",
       "7    20   16  15   54   22   43   28    9    28   32  ...    15    15    89   \n",
       "8    93   17   7  239   35   80   61   17     3   62  ...     4   148    20   \n",
       "9   105    4  26  918   29    4  971  711    82  563  ...    13     8    59   \n",
       "\n",
       "   S143  S144  S145  S146  S147  S148  S149  \n",
       "0    29    31    34    18    32    29    48  \n",
       "1    30   319    37   449    83   142    51  \n",
       "2    21    40    40   187    77    19   464  \n",
       "3   242    97    91    53   115   218    99  \n",
       "4   638   153   135   343   171   168   469  \n",
       "5  1010    10   290    13    75  2582    27  \n",
       "6  1399   124    95   201  3642   226    79  \n",
       "7    33    24    49    31    54    25    33  \n",
       "8    80     4   108    17   109     2   260  \n",
       "9   246   145    38    65    92    43   282  \n",
       "\n",
       "[10 rows x 150 columns]"
      ]
     },
     "execution_count": 110,
     "metadata": {},
     "output_type": "execute_result"
    }
   ],
   "source": [
    "synthetic_data['CombinedReads'].head(10)"
   ]
  },
  {
   "cell_type": "markdown",
   "id": "dc5a0264",
   "metadata": {},
   "source": [
    "The ```SeparatedReads``` field contains a dictionary of the separate read counts for the two sets of taxa (e.g. bacteria and fungi). These would be the result of separate 16S and ITS sequencing. Note that taxa labels are consistent, so the first set is numbered 0 to M-1 and the second is numbered M to N, where M is the number of taxa in the first set and N is the total number of taxa."
   ]
  },
  {
   "cell_type": "code",
   "execution_count": 111,
   "id": "cd1f38a2",
   "metadata": {},
   "outputs": [
    {
     "data": {
      "text/plain": [
       "dict_keys(['Set1', 'Set2'])"
      ]
     },
     "execution_count": 111,
     "metadata": {},
     "output_type": "execute_result"
    }
   ],
   "source": [
    "synthetic_data['SeparatedReads'].keys()"
   ]
  },
  {
   "cell_type": "code",
   "execution_count": 112,
   "id": "5f8154ca",
   "metadata": {},
   "outputs": [
    {
     "data": {
      "text/html": [
       "<div>\n",
       "<style scoped>\n",
       "    .dataframe tbody tr th:only-of-type {\n",
       "        vertical-align: middle;\n",
       "    }\n",
       "\n",
       "    .dataframe tbody tr th {\n",
       "        vertical-align: top;\n",
       "    }\n",
       "\n",
       "    .dataframe thead th {\n",
       "        text-align: right;\n",
       "    }\n",
       "</style>\n",
       "<table border=\"1\" class=\"dataframe\">\n",
       "  <thead>\n",
       "    <tr style=\"text-align: right;\">\n",
       "      <th></th>\n",
       "      <th>S0</th>\n",
       "      <th>S1</th>\n",
       "      <th>S2</th>\n",
       "      <th>S3</th>\n",
       "      <th>S4</th>\n",
       "      <th>S5</th>\n",
       "      <th>S6</th>\n",
       "      <th>S7</th>\n",
       "      <th>S8</th>\n",
       "      <th>S9</th>\n",
       "      <th>...</th>\n",
       "      <th>S140</th>\n",
       "      <th>S141</th>\n",
       "      <th>S142</th>\n",
       "      <th>S143</th>\n",
       "      <th>S144</th>\n",
       "      <th>S145</th>\n",
       "      <th>S146</th>\n",
       "      <th>S147</th>\n",
       "      <th>S148</th>\n",
       "      <th>S149</th>\n",
       "    </tr>\n",
       "  </thead>\n",
       "  <tbody>\n",
       "    <tr>\n",
       "      <th>0</th>\n",
       "      <td>18</td>\n",
       "      <td>32</td>\n",
       "      <td>10</td>\n",
       "      <td>38</td>\n",
       "      <td>37</td>\n",
       "      <td>11</td>\n",
       "      <td>28</td>\n",
       "      <td>33</td>\n",
       "      <td>34</td>\n",
       "      <td>16</td>\n",
       "      <td>...</td>\n",
       "      <td>23</td>\n",
       "      <td>20</td>\n",
       "      <td>42</td>\n",
       "      <td>29</td>\n",
       "      <td>31</td>\n",
       "      <td>34</td>\n",
       "      <td>18</td>\n",
       "      <td>32</td>\n",
       "      <td>29</td>\n",
       "      <td>48</td>\n",
       "    </tr>\n",
       "    <tr>\n",
       "      <th>1</th>\n",
       "      <td>110</td>\n",
       "      <td>192</td>\n",
       "      <td>14</td>\n",
       "      <td>13</td>\n",
       "      <td>31</td>\n",
       "      <td>20</td>\n",
       "      <td>36</td>\n",
       "      <td>293</td>\n",
       "      <td>65</td>\n",
       "      <td>10</td>\n",
       "      <td>...</td>\n",
       "      <td>109</td>\n",
       "      <td>35</td>\n",
       "      <td>84</td>\n",
       "      <td>30</td>\n",
       "      <td>319</td>\n",
       "      <td>37</td>\n",
       "      <td>449</td>\n",
       "      <td>83</td>\n",
       "      <td>142</td>\n",
       "      <td>51</td>\n",
       "    </tr>\n",
       "    <tr>\n",
       "      <th>2</th>\n",
       "      <td>51</td>\n",
       "      <td>104</td>\n",
       "      <td>96</td>\n",
       "      <td>7</td>\n",
       "      <td>46</td>\n",
       "      <td>184</td>\n",
       "      <td>37</td>\n",
       "      <td>526</td>\n",
       "      <td>159</td>\n",
       "      <td>61</td>\n",
       "      <td>...</td>\n",
       "      <td>216</td>\n",
       "      <td>4</td>\n",
       "      <td>5</td>\n",
       "      <td>21</td>\n",
       "      <td>40</td>\n",
       "      <td>40</td>\n",
       "      <td>187</td>\n",
       "      <td>77</td>\n",
       "      <td>19</td>\n",
       "      <td>464</td>\n",
       "    </tr>\n",
       "    <tr>\n",
       "      <th>3</th>\n",
       "      <td>54</td>\n",
       "      <td>56</td>\n",
       "      <td>73</td>\n",
       "      <td>158</td>\n",
       "      <td>175</td>\n",
       "      <td>72</td>\n",
       "      <td>148</td>\n",
       "      <td>65</td>\n",
       "      <td>88</td>\n",
       "      <td>120</td>\n",
       "      <td>...</td>\n",
       "      <td>41</td>\n",
       "      <td>72</td>\n",
       "      <td>116</td>\n",
       "      <td>242</td>\n",
       "      <td>97</td>\n",
       "      <td>91</td>\n",
       "      <td>53</td>\n",
       "      <td>115</td>\n",
       "      <td>218</td>\n",
       "      <td>99</td>\n",
       "    </tr>\n",
       "    <tr>\n",
       "      <th>4</th>\n",
       "      <td>133</td>\n",
       "      <td>210</td>\n",
       "      <td>24</td>\n",
       "      <td>692</td>\n",
       "      <td>706</td>\n",
       "      <td>74</td>\n",
       "      <td>532</td>\n",
       "      <td>646</td>\n",
       "      <td>432</td>\n",
       "      <td>432</td>\n",
       "      <td>...</td>\n",
       "      <td>138</td>\n",
       "      <td>149</td>\n",
       "      <td>465</td>\n",
       "      <td>638</td>\n",
       "      <td>153</td>\n",
       "      <td>135</td>\n",
       "      <td>343</td>\n",
       "      <td>171</td>\n",
       "      <td>168</td>\n",
       "      <td>469</td>\n",
       "    </tr>\n",
       "    <tr>\n",
       "      <th>5</th>\n",
       "      <td>288</td>\n",
       "      <td>14</td>\n",
       "      <td>6</td>\n",
       "      <td>244</td>\n",
       "      <td>33</td>\n",
       "      <td>208</td>\n",
       "      <td>23</td>\n",
       "      <td>262</td>\n",
       "      <td>25</td>\n",
       "      <td>123</td>\n",
       "      <td>...</td>\n",
       "      <td>17</td>\n",
       "      <td>9</td>\n",
       "      <td>79</td>\n",
       "      <td>1010</td>\n",
       "      <td>10</td>\n",
       "      <td>290</td>\n",
       "      <td>13</td>\n",
       "      <td>75</td>\n",
       "      <td>2582</td>\n",
       "      <td>27</td>\n",
       "    </tr>\n",
       "    <tr>\n",
       "      <th>6</th>\n",
       "      <td>2608</td>\n",
       "      <td>106</td>\n",
       "      <td>18</td>\n",
       "      <td>1</td>\n",
       "      <td>116</td>\n",
       "      <td>379</td>\n",
       "      <td>10</td>\n",
       "      <td>387</td>\n",
       "      <td>1200</td>\n",
       "      <td>159</td>\n",
       "      <td>...</td>\n",
       "      <td>3</td>\n",
       "      <td>86</td>\n",
       "      <td>419</td>\n",
       "      <td>1399</td>\n",
       "      <td>124</td>\n",
       "      <td>95</td>\n",
       "      <td>201</td>\n",
       "      <td>3642</td>\n",
       "      <td>226</td>\n",
       "      <td>79</td>\n",
       "    </tr>\n",
       "    <tr>\n",
       "      <th>7</th>\n",
       "      <td>20</td>\n",
       "      <td>16</td>\n",
       "      <td>15</td>\n",
       "      <td>54</td>\n",
       "      <td>22</td>\n",
       "      <td>43</td>\n",
       "      <td>28</td>\n",
       "      <td>9</td>\n",
       "      <td>28</td>\n",
       "      <td>32</td>\n",
       "      <td>...</td>\n",
       "      <td>15</td>\n",
       "      <td>15</td>\n",
       "      <td>89</td>\n",
       "      <td>33</td>\n",
       "      <td>24</td>\n",
       "      <td>49</td>\n",
       "      <td>31</td>\n",
       "      <td>54</td>\n",
       "      <td>25</td>\n",
       "      <td>33</td>\n",
       "    </tr>\n",
       "    <tr>\n",
       "      <th>8</th>\n",
       "      <td>93</td>\n",
       "      <td>17</td>\n",
       "      <td>7</td>\n",
       "      <td>239</td>\n",
       "      <td>35</td>\n",
       "      <td>80</td>\n",
       "      <td>61</td>\n",
       "      <td>17</td>\n",
       "      <td>3</td>\n",
       "      <td>62</td>\n",
       "      <td>...</td>\n",
       "      <td>4</td>\n",
       "      <td>148</td>\n",
       "      <td>20</td>\n",
       "      <td>80</td>\n",
       "      <td>4</td>\n",
       "      <td>108</td>\n",
       "      <td>17</td>\n",
       "      <td>109</td>\n",
       "      <td>2</td>\n",
       "      <td>260</td>\n",
       "    </tr>\n",
       "    <tr>\n",
       "      <th>9</th>\n",
       "      <td>105</td>\n",
       "      <td>4</td>\n",
       "      <td>26</td>\n",
       "      <td>918</td>\n",
       "      <td>29</td>\n",
       "      <td>4</td>\n",
       "      <td>971</td>\n",
       "      <td>711</td>\n",
       "      <td>82</td>\n",
       "      <td>563</td>\n",
       "      <td>...</td>\n",
       "      <td>13</td>\n",
       "      <td>8</td>\n",
       "      <td>59</td>\n",
       "      <td>246</td>\n",
       "      <td>145</td>\n",
       "      <td>38</td>\n",
       "      <td>65</td>\n",
       "      <td>92</td>\n",
       "      <td>43</td>\n",
       "      <td>282</td>\n",
       "    </tr>\n",
       "  </tbody>\n",
       "</table>\n",
       "<p>10 rows × 150 columns</p>\n",
       "</div>"
      ],
      "text/plain": [
       "     S0   S1  S2   S3   S4   S5   S6   S7    S8   S9  ...  S140  S141  S142  \\\n",
       "0    18   32  10   38   37   11   28   33    34   16  ...    23    20    42   \n",
       "1   110  192  14   13   31   20   36  293    65   10  ...   109    35    84   \n",
       "2    51  104  96    7   46  184   37  526   159   61  ...   216     4     5   \n",
       "3    54   56  73  158  175   72  148   65    88  120  ...    41    72   116   \n",
       "4   133  210  24  692  706   74  532  646   432  432  ...   138   149   465   \n",
       "5   288   14   6  244   33  208   23  262    25  123  ...    17     9    79   \n",
       "6  2608  106  18    1  116  379   10  387  1200  159  ...     3    86   419   \n",
       "7    20   16  15   54   22   43   28    9    28   32  ...    15    15    89   \n",
       "8    93   17   7  239   35   80   61   17     3   62  ...     4   148    20   \n",
       "9   105    4  26  918   29    4  971  711    82  563  ...    13     8    59   \n",
       "\n",
       "   S143  S144  S145  S146  S147  S148  S149  \n",
       "0    29    31    34    18    32    29    48  \n",
       "1    30   319    37   449    83   142    51  \n",
       "2    21    40    40   187    77    19   464  \n",
       "3   242    97    91    53   115   218    99  \n",
       "4   638   153   135   343   171   168   469  \n",
       "5  1010    10   290    13    75  2582    27  \n",
       "6  1399   124    95   201  3642   226    79  \n",
       "7    33    24    49    31    54    25    33  \n",
       "8    80     4   108    17   109     2   260  \n",
       "9   246   145    38    65    92    43   282  \n",
       "\n",
       "[10 rows x 150 columns]"
      ]
     },
     "execution_count": 112,
     "metadata": {},
     "output_type": "execute_result"
    }
   ],
   "source": [
    "synthetic_data['SeparatedReads']['Set1'].head(10)"
   ]
  },
  {
   "cell_type": "code",
   "execution_count": 15,
   "id": "32a88c90",
   "metadata": {},
   "outputs": [
    {
     "data": {
      "text/html": [
       "<div>\n",
       "<style scoped>\n",
       "    .dataframe tbody tr th:only-of-type {\n",
       "        vertical-align: middle;\n",
       "    }\n",
       "\n",
       "    .dataframe tbody tr th {\n",
       "        vertical-align: top;\n",
       "    }\n",
       "\n",
       "    .dataframe thead th {\n",
       "        text-align: right;\n",
       "    }\n",
       "</style>\n",
       "<table border=\"1\" class=\"dataframe\">\n",
       "  <thead>\n",
       "    <tr style=\"text-align: right;\">\n",
       "      <th></th>\n",
       "      <th>S0</th>\n",
       "      <th>S1</th>\n",
       "      <th>S2</th>\n",
       "      <th>S3</th>\n",
       "      <th>S4</th>\n",
       "      <th>S5</th>\n",
       "      <th>S6</th>\n",
       "      <th>S7</th>\n",
       "      <th>S8</th>\n",
       "      <th>S9</th>\n",
       "      <th>...</th>\n",
       "      <th>S140</th>\n",
       "      <th>S141</th>\n",
       "      <th>S142</th>\n",
       "      <th>S143</th>\n",
       "      <th>S144</th>\n",
       "      <th>S145</th>\n",
       "      <th>S146</th>\n",
       "      <th>S147</th>\n",
       "      <th>S148</th>\n",
       "      <th>S149</th>\n",
       "    </tr>\n",
       "  </thead>\n",
       "  <tbody>\n",
       "    <tr>\n",
       "      <th>289</th>\n",
       "      <td>2214</td>\n",
       "      <td>2210</td>\n",
       "      <td>12</td>\n",
       "      <td>237</td>\n",
       "      <td>21</td>\n",
       "      <td>110</td>\n",
       "      <td>210</td>\n",
       "      <td>56</td>\n",
       "      <td>74</td>\n",
       "      <td>169</td>\n",
       "      <td>...</td>\n",
       "      <td>1258</td>\n",
       "      <td>1285</td>\n",
       "      <td>2</td>\n",
       "      <td>743</td>\n",
       "      <td>419</td>\n",
       "      <td>530</td>\n",
       "      <td>56</td>\n",
       "      <td>63</td>\n",
       "      <td>5687</td>\n",
       "      <td>873</td>\n",
       "    </tr>\n",
       "    <tr>\n",
       "      <th>290</th>\n",
       "      <td>21</td>\n",
       "      <td>35</td>\n",
       "      <td>26</td>\n",
       "      <td>51</td>\n",
       "      <td>22</td>\n",
       "      <td>26</td>\n",
       "      <td>23</td>\n",
       "      <td>12</td>\n",
       "      <td>15</td>\n",
       "      <td>31</td>\n",
       "      <td>...</td>\n",
       "      <td>17</td>\n",
       "      <td>26</td>\n",
       "      <td>19</td>\n",
       "      <td>40</td>\n",
       "      <td>16</td>\n",
       "      <td>97</td>\n",
       "      <td>28</td>\n",
       "      <td>13</td>\n",
       "      <td>53</td>\n",
       "      <td>16</td>\n",
       "    </tr>\n",
       "    <tr>\n",
       "      <th>291</th>\n",
       "      <td>1002</td>\n",
       "      <td>360</td>\n",
       "      <td>406</td>\n",
       "      <td>653</td>\n",
       "      <td>49</td>\n",
       "      <td>426</td>\n",
       "      <td>721</td>\n",
       "      <td>1349</td>\n",
       "      <td>4502</td>\n",
       "      <td>58</td>\n",
       "      <td>...</td>\n",
       "      <td>647</td>\n",
       "      <td>3241</td>\n",
       "      <td>385</td>\n",
       "      <td>262</td>\n",
       "      <td>805</td>\n",
       "      <td>1337</td>\n",
       "      <td>656</td>\n",
       "      <td>2882</td>\n",
       "      <td>519</td>\n",
       "      <td>1663</td>\n",
       "    </tr>\n",
       "    <tr>\n",
       "      <th>292</th>\n",
       "      <td>804</td>\n",
       "      <td>636</td>\n",
       "      <td>2335</td>\n",
       "      <td>236</td>\n",
       "      <td>5252</td>\n",
       "      <td>2355</td>\n",
       "      <td>892</td>\n",
       "      <td>697</td>\n",
       "      <td>512</td>\n",
       "      <td>411</td>\n",
       "      <td>...</td>\n",
       "      <td>168</td>\n",
       "      <td>103</td>\n",
       "      <td>279</td>\n",
       "      <td>513</td>\n",
       "      <td>265</td>\n",
       "      <td>3004</td>\n",
       "      <td>3277</td>\n",
       "      <td>1413</td>\n",
       "      <td>361</td>\n",
       "      <td>279</td>\n",
       "    </tr>\n",
       "    <tr>\n",
       "      <th>293</th>\n",
       "      <td>540</td>\n",
       "      <td>264</td>\n",
       "      <td>273</td>\n",
       "      <td>113</td>\n",
       "      <td>1426</td>\n",
       "      <td>440</td>\n",
       "      <td>576</td>\n",
       "      <td>4525</td>\n",
       "      <td>13</td>\n",
       "      <td>190</td>\n",
       "      <td>...</td>\n",
       "      <td>266</td>\n",
       "      <td>586</td>\n",
       "      <td>405</td>\n",
       "      <td>1210</td>\n",
       "      <td>2161</td>\n",
       "      <td>5349</td>\n",
       "      <td>465</td>\n",
       "      <td>800</td>\n",
       "      <td>2160</td>\n",
       "      <td>94</td>\n",
       "    </tr>\n",
       "    <tr>\n",
       "      <th>294</th>\n",
       "      <td>181</td>\n",
       "      <td>255</td>\n",
       "      <td>9</td>\n",
       "      <td>163</td>\n",
       "      <td>112</td>\n",
       "      <td>19</td>\n",
       "      <td>96</td>\n",
       "      <td>246</td>\n",
       "      <td>1374</td>\n",
       "      <td>223</td>\n",
       "      <td>...</td>\n",
       "      <td>27</td>\n",
       "      <td>456</td>\n",
       "      <td>73</td>\n",
       "      <td>64</td>\n",
       "      <td>58</td>\n",
       "      <td>530</td>\n",
       "      <td>53</td>\n",
       "      <td>3991</td>\n",
       "      <td>166</td>\n",
       "      <td>397</td>\n",
       "    </tr>\n",
       "    <tr>\n",
       "      <th>295</th>\n",
       "      <td>419</td>\n",
       "      <td>14</td>\n",
       "      <td>31</td>\n",
       "      <td>107</td>\n",
       "      <td>6</td>\n",
       "      <td>65</td>\n",
       "      <td>22</td>\n",
       "      <td>31</td>\n",
       "      <td>17</td>\n",
       "      <td>18</td>\n",
       "      <td>...</td>\n",
       "      <td>45</td>\n",
       "      <td>77</td>\n",
       "      <td>3</td>\n",
       "      <td>9</td>\n",
       "      <td>32</td>\n",
       "      <td>31</td>\n",
       "      <td>17</td>\n",
       "      <td>59</td>\n",
       "      <td>3</td>\n",
       "      <td>2</td>\n",
       "    </tr>\n",
       "    <tr>\n",
       "      <th>296</th>\n",
       "      <td>16</td>\n",
       "      <td>20</td>\n",
       "      <td>11</td>\n",
       "      <td>48</td>\n",
       "      <td>21</td>\n",
       "      <td>25</td>\n",
       "      <td>10</td>\n",
       "      <td>9</td>\n",
       "      <td>14</td>\n",
       "      <td>23</td>\n",
       "      <td>...</td>\n",
       "      <td>23</td>\n",
       "      <td>29</td>\n",
       "      <td>18</td>\n",
       "      <td>32</td>\n",
       "      <td>3</td>\n",
       "      <td>23</td>\n",
       "      <td>33</td>\n",
       "      <td>37</td>\n",
       "      <td>15</td>\n",
       "      <td>33</td>\n",
       "    </tr>\n",
       "    <tr>\n",
       "      <th>297</th>\n",
       "      <td>15</td>\n",
       "      <td>63</td>\n",
       "      <td>34</td>\n",
       "      <td>0</td>\n",
       "      <td>51</td>\n",
       "      <td>17</td>\n",
       "      <td>10</td>\n",
       "      <td>7</td>\n",
       "      <td>3</td>\n",
       "      <td>21</td>\n",
       "      <td>...</td>\n",
       "      <td>18</td>\n",
       "      <td>5</td>\n",
       "      <td>9</td>\n",
       "      <td>19</td>\n",
       "      <td>8</td>\n",
       "      <td>20</td>\n",
       "      <td>50</td>\n",
       "      <td>51</td>\n",
       "      <td>3</td>\n",
       "      <td>10</td>\n",
       "    </tr>\n",
       "    <tr>\n",
       "      <th>298</th>\n",
       "      <td>335</td>\n",
       "      <td>407</td>\n",
       "      <td>253</td>\n",
       "      <td>944</td>\n",
       "      <td>1101</td>\n",
       "      <td>1236</td>\n",
       "      <td>708</td>\n",
       "      <td>656</td>\n",
       "      <td>784</td>\n",
       "      <td>576</td>\n",
       "      <td>...</td>\n",
       "      <td>742</td>\n",
       "      <td>259</td>\n",
       "      <td>228</td>\n",
       "      <td>497</td>\n",
       "      <td>230</td>\n",
       "      <td>2889</td>\n",
       "      <td>512</td>\n",
       "      <td>735</td>\n",
       "      <td>337</td>\n",
       "      <td>1585</td>\n",
       "    </tr>\n",
       "  </tbody>\n",
       "</table>\n",
       "<p>10 rows × 150 columns</p>\n",
       "</div>"
      ],
      "text/plain": [
       "       S0    S1    S2   S3    S4    S5   S6    S7    S8   S9  ...  S140  S141  \\\n",
       "289  2214  2210    12  237    21   110  210    56    74  169  ...  1258  1285   \n",
       "290    21    35    26   51    22    26   23    12    15   31  ...    17    26   \n",
       "291  1002   360   406  653    49   426  721  1349  4502   58  ...   647  3241   \n",
       "292   804   636  2335  236  5252  2355  892   697   512  411  ...   168   103   \n",
       "293   540   264   273  113  1426   440  576  4525    13  190  ...   266   586   \n",
       "294   181   255     9  163   112    19   96   246  1374  223  ...    27   456   \n",
       "295   419    14    31  107     6    65   22    31    17   18  ...    45    77   \n",
       "296    16    20    11   48    21    25   10     9    14   23  ...    23    29   \n",
       "297    15    63    34    0    51    17   10     7     3   21  ...    18     5   \n",
       "298   335   407   253  944  1101  1236  708   656   784  576  ...   742   259   \n",
       "\n",
       "     S142  S143  S144  S145  S146  S147  S148  S149  \n",
       "289     2   743   419   530    56    63  5687   873  \n",
       "290    19    40    16    97    28    13    53    16  \n",
       "291   385   262   805  1337   656  2882   519  1663  \n",
       "292   279   513   265  3004  3277  1413   361   279  \n",
       "293   405  1210  2161  5349   465   800  2160    94  \n",
       "294    73    64    58   530    53  3991   166   397  \n",
       "295     3     9    32    31    17    59     3     2  \n",
       "296    18    32     3    23    33    37    15    33  \n",
       "297     9    19     8    20    50    51     3    10  \n",
       "298   228   497   230  2889   512   735   337  1585  \n",
       "\n",
       "[10 rows x 150 columns]"
      ]
     },
     "execution_count": 15,
     "metadata": {},
     "output_type": "execute_result"
    }
   ],
   "source": [
    "synthetic_data['SeparatedReads']['Set2'].head(10)"
   ]
  },
  {
   "cell_type": "markdown",
   "id": "4806ce79",
   "metadata": {},
   "source": [
    "The ```GroupOrder``` field contains a list of the data ranges for each set, in order."
   ]
  },
  {
   "cell_type": "code",
   "execution_count": 16,
   "id": "752b44c4",
   "metadata": {},
   "outputs": [
    {
     "data": {
      "text/plain": [
       "[(0, 289), (289, 500)]"
      ]
     },
     "execution_count": 16,
     "metadata": {},
     "output_type": "execute_result"
    }
   ],
   "source": [
    "synthetic_data['GroupOrder']"
   ]
  },
  {
   "cell_type": "markdown",
   "id": "c0e9c3fb",
   "metadata": {},
   "source": [
    "The ```ReadDepths``` field contains a dictionary of arrays that tell us the total number of reads used for each sample for each data set. Note that this can also be obtained by ```synthetic_data['SeparatedReads']['Set1'].sum()```."
   ]
  },
  {
   "cell_type": "code",
   "execution_count": 17,
   "id": "ce57e212",
   "metadata": {},
   "outputs": [
    {
     "data": {
      "text/plain": [
       "dict_keys(['Set1', 'Set2'])"
      ]
     },
     "execution_count": 17,
     "metadata": {},
     "output_type": "execute_result"
    }
   ],
   "source": [
    "synthetic_data['ReadDepths'].keys()"
   ]
  },
  {
   "cell_type": "code",
   "execution_count": 18,
   "id": "f9575898",
   "metadata": {},
   "outputs": [
    {
     "data": {
      "text/plain": [
       "array([100556,  83408,  95764,  94447,  89670,  99276, 110791,  97765,\n",
       "       108342,  94356, 108152, 106211, 102671,  91856,  89436,  91827,\n",
       "        98290,  86616, 108619, 116247,  97304,  93325, 110823,  90344,\n",
       "       112823,  91685,  87262,  97419,  94724, 104961, 113926,  97472,\n",
       "       107211, 106576, 110312, 103340, 100536,  94843,  84703, 110298,\n",
       "        99214, 109402,  97679, 112853,  84702, 110742,  92355, 116448,\n",
       "       114844,  78012,  87779, 100366, 106154,  84694,  94185, 100385,\n",
       "       109784,  96418, 103037,  88047, 106962, 103130,  96585,  86637,\n",
       "       109265,  95193,  92409,  97329, 101282, 110262, 102114,  94592,\n",
       "       112847,  93855, 106244, 105576,  91886, 103293, 119527,  94773,\n",
       "        93561, 107198,  93631, 123951, 104291, 108323,  95682, 105024,\n",
       "       100161, 102140,  88099,  97125,  89011,  91187, 110124,  80593,\n",
       "        92845,  88865,  98241, 105101,  86930, 105049, 116006, 113055,\n",
       "       102473, 108726,  91735,  98740,  91813,  91004, 106004, 109785,\n",
       "        93573, 104689, 109584,  84086, 111028, 104905,  98640,  97695,\n",
       "       101506, 101784,  95425,  93650,  96379,  85419,  91447, 105486,\n",
       "       111328,  97958,  94411,  99133,  94781, 113134,  96515, 116507,\n",
       "       101097,  99068,  98032, 111800,  91101, 106592, 115435, 105621,\n",
       "        81845,  89666,  87773, 102564, 113148, 106145])"
      ]
     },
     "execution_count": 18,
     "metadata": {},
     "output_type": "execute_result"
    }
   ],
   "source": [
    "synthetic_data['ReadDepths'][\"Set1\"]"
   ]
  },
  {
   "cell_type": "code",
   "execution_count": 19,
   "id": "d56a1c65",
   "metadata": {},
   "outputs": [
    {
     "data": {
      "text/plain": [
       "array([103428,  79316, 104891, 103981,  92478, 100087,  91900,  88957,\n",
       "        92002,  90433, 106886, 118381,  97833,  93737, 103229, 114683,\n",
       "        95685, 106316, 108539, 106980, 100103,  86865, 103616, 105131,\n",
       "       105500, 106553,  89874,  91342,  94519, 108881, 103530,  97336,\n",
       "        80539,  89879,  82280,  85308, 108803, 108576,  92946, 113753,\n",
       "       111785, 107142,  94622, 107977, 107051,  99262, 120454, 105561,\n",
       "       123296, 114425, 109240,  98467, 109512, 112592, 103129, 103217,\n",
       "       102319, 110055, 113515,  94558,  99875, 109595,  85875,  83359,\n",
       "       109069, 103322, 103169, 107407, 107857, 107536,  91751, 101002,\n",
       "        96638,  94982, 109254, 102538, 103002,  88090, 101005, 107055,\n",
       "       107204, 122157, 102411, 102913,  91616, 103424, 106929,  95509,\n",
       "        98863, 107197,  91008, 106785,  88738, 101296, 109401, 121217,\n",
       "        98359, 106235,  83447, 107122, 110008,  93024,  94472,  95188,\n",
       "        86214, 107689, 111878,  98250,  97878,  86574,  98452,  89272,\n",
       "        96747,  91471, 101739,  78789, 106073, 105023, 121179, 114637,\n",
       "       105246,  98337,  94688,  87257, 105541,  96645,  96619, 108165,\n",
       "       121195,  98729,  98697, 125605,  95682, 102677, 105582, 111230,\n",
       "       111315,  96093, 101195, 104867, 122383,  96440,  84008, 101605,\n",
       "       107543, 102043,  93222, 109094,  94676,  88264])"
      ]
     },
     "execution_count": 19,
     "metadata": {},
     "output_type": "execute_result"
    }
   ],
   "source": [
    "synthetic_data['ReadDepths'][\"Set2\"]"
   ]
  },
  {
   "cell_type": "markdown",
   "id": "e5da5350",
   "metadata": {},
   "source": [
    "The ```TotalRatioVariance``` field contains the variance of the ratio of (total absolute abundance in kingdom 1)/(total absolute abundance in kingdom 2) across samples. This quantity plays a large role in the error of network inference with concatenated data."
   ]
  },
  {
   "cell_type": "code",
   "execution_count": 20,
   "id": "a42dbe51",
   "metadata": {},
   "outputs": [
    {
     "data": {
      "text/plain": [
       "1.375108787486058"
      ]
     },
     "execution_count": 20,
     "metadata": {},
     "output_type": "execute_result"
    }
   ],
   "source": [
    "synthetic_data['TotalRatioVariance']"
   ]
  },
  {
   "cell_type": "markdown",
   "id": "dd6b9dc2",
   "metadata": {},
   "source": [
    "## What's going on under the hood?"
   ]
  },
  {
   "cell_type": "markdown",
   "id": "732b58c1",
   "metadata": {},
   "source": [
    "To demonstrate how the data is generated, the following is a step-by-step version of what the ```generate_synthetic_data``` does."
   ]
  },
  {
   "cell_type": "markdown",
   "id": "3b84c990",
   "metadata": {},
   "source": [
    "The first task is to generate a covariance matrix. That process can be broken into a few steps:\n",
    "\n",
    "First, we use NetworkX to generate a graph structure for the community. This will be the sparsity (0 entries) structure of our covariance matrix."
   ]
  },
  {
   "cell_type": "code",
   "execution_count": 302,
   "id": "3cf7c60f",
   "metadata": {},
   "outputs": [],
   "source": [
    "nedges = gsp*(N**2)\n",
    "p = 0.3\n",
    "K = max(int(nedges/(N*(1+p))),1)\n",
    "graph = nx.powerlaw_cluster_graph(N, K, p)"
   ]
  },
  {
   "cell_type": "code",
   "execution_count": 303,
   "id": "a1b5c360",
   "metadata": {},
   "outputs": [
    {
     "data": {
      "image/png": "[encoded data removed]",
      "text/plain": [
       "<Figure size 720x720 with 1 Axes>"
      ]
     },
     "metadata": {},
     "output_type": "display_data"
    }
   ],
   "source": [
    "fig,ax = plt.subplots(figsize = (10,10))\n",
    "\n",
    "ax.xaxis.set_tick_params(labelbottom=False)\n",
    "ax.yaxis.set_tick_params(labelleft=False)\n",
    "\n",
    "sb.heatmap(nx.to_numpy_array(graph),cmap = \"bwr_r\",cbar = False,center = 0)\n",
    "\n",
    "ax.set_xticks([])\n",
    "ax.set_yticks([]);"
   ]
  },
  {
   "cell_type": "markdown",
   "id": "f961ed9b",
   "metadata": {},
   "source": [
    "Next, we shuffle the labels of this graph, so that edges and clusters are evenly distributed between the two kingdoms:"
   ]
  },
  {
   "cell_type": "code",
   "execution_count": 318,
   "id": "23ae8986",
   "metadata": {},
   "outputs": [],
   "source": [
    "Adj = nx.to_numpy_array(graph)\n",
    "sh = np.random.permutation(N)\n",
    "shffld = Adj[sh][:,sh]"
   ]
  },
  {
   "cell_type": "code",
   "execution_count": 319,
   "id": "de63152c",
   "metadata": {},
   "outputs": [
    {
     "data": {
      "image/png": "[encoded data removed]",
      "text/plain": [
       "<Figure size 720x720 with 1 Axes>"
      ]
     },
     "metadata": {},
     "output_type": "display_data"
    }
   ],
   "source": [
    "fig,ax = plt.subplots(figsize = (10,10))\n",
    "\n",
    "ax.xaxis.set_tick_params(labelbottom=False)\n",
    "ax.yaxis.set_tick_params(labelleft=False)\n",
    "\n",
    "sb.heatmap(shffld,cmap = \"bwr_r\",cbar = False,center = 0)\n",
    "\n",
    "ax.set_xticks([])\n",
    "ax.set_yticks([]);"
   ]
  },
  {
   "cell_type": "markdown",
   "id": "6bbc7aff",
   "metadata": {},
   "source": [
    "Next we choose which taxa belong to which kingdom. Notice that our model assumes that covariances across kingdoms and within kingdoms are evenly distributed. In other words, it assumes that the only distinction between kingdoms is in how abundances are measured. To change this, one could use a different method of constructing the underlying covariance matrix (e.g. by choosing one kingdom's intra-kingdom edges to be denser than the others). We have not implemented this functionality. "
   ]
  },
  {
   "cell_type": "code",
   "execution_count": 67,
   "id": "abdae4dd",
   "metadata": {},
   "outputs": [],
   "source": [
    "minsplit = int(0.2*N)\n",
    "maxsplit = int(0.8*N)\n",
    "splits = np.sort(np.random.choice(range(minsplit,maxsplit),size = ns-1,replace = False))\n",
    "\n",
    "spl_i = np.concatenate([[0],splits,[N]])"
   ]
  },
  {
   "cell_type": "code",
   "execution_count": 68,
   "id": "e3c4a83f",
   "metadata": {},
   "outputs": [
    {
     "data": {
      "text/plain": [
       "array([  0, 170, 500])"
      ]
     },
     "execution_count": 68,
     "metadata": {},
     "output_type": "execute_result"
    }
   ],
   "source": [
    "spl_i"
   ]
  },
  {
   "cell_type": "markdown",
   "id": "5660368b",
   "metadata": {},
   "source": [
    "If we want more or less cross-kingdom edges (regardless of sign), we can add or remove edges now. We are going to design a method to give us a desired sparsity relative to the interkingdom edges."
   ]
  },
  {
   "cell_type": "code",
   "execution_count": 60,
   "id": "bfce13e9",
   "metadata": {},
   "outputs": [],
   "source": [
    "sparse_adjust = {\"Kingdoms\":(0,1),\"SparsityRatio\":0.1}"
   ]
  },
  {
   "cell_type": "code",
   "execution_count": 317,
   "id": "7ec4832a",
   "metadata": {},
   "outputs": [
    {
     "data": {
      "image/png": "[encoded data removed]",
      "text/plain": [
       "<Figure size 720x720 with 1 Axes>"
      ]
     },
     "metadata": {},
     "output_type": "display_data"
    }
   ],
   "source": [
    "shffld = adjust_sparsity(sparse_adjust,shffld,spl_i)\n",
    "\n",
    "fig,ax = plt.subplots(figsize = (10,10))\n",
    "\n",
    "ax.xaxis.set_tick_params(labelbottom=False)\n",
    "ax.yaxis.set_tick_params(labelleft=False)\n",
    "\n",
    "sb.heatmap(shffld,cmap = \"bwr_r\",cbar = False,center = 0)\n",
    "\n",
    "ax.set_xticks([])\n",
    "ax.set_yticks([]);"
   ]
  },
  {
   "cell_type": "markdown",
   "id": "5c6d5a9d",
   "metadata": {},
   "source": [
    "And compute the sparsity:"
   ]
  },
  {
   "cell_type": "code",
   "execution_count": 69,
   "id": "81b88596",
   "metadata": {},
   "outputs": [
    {
     "data": {
      "text/plain": [
       "0.07206412825651302"
      ]
     },
     "execution_count": 69,
     "metadata": {},
     "output_type": "execute_result"
    }
   ],
   "source": [
    "Sp = shffld.sum()/(N*(N-1))\n",
    "Sp"
   ]
  },
  {
   "cell_type": "code",
   "execution_count": null,
   "id": "2fafd3eb",
   "metadata": {},
   "outputs": [],
   "source": []
  },
  {
   "cell_type": "code",
   "execution_count": null,
   "id": "f032f28b",
   "metadata": {},
   "outputs": [],
   "source": []
  },
  {
   "cell_type": "code",
   "execution_count": 335,
   "id": "69c0a78b",
   "metadata": {},
   "outputs": [],
   "source": [
    "%run synthetic_fit_funcs.py"
   ]
  },
  {
   "cell_type": "markdown",
   "id": "1c5a8ca0",
   "metadata": {},
   "source": [
    "Next we generate a positive definite matrix with the same 0 pattern and both positive and negative real-valued (non-integer) values. To do so, we iterate through the nodes of the above graph choosing a random vector for each. For each node, we choose a random vector that is perpendicular to the vector for previous nodes which do not have an edge to the current node. We call this collection ```Q```. Then the product ```QQ^T``` is a positive definite matrix with the desired sparsity pattern.\n",
    "\n",
    "We can furthermore choose vectors with only negative/positive interactions, or biased toward positive/negative interactions, by computing the dual cone of the vectors we want a positive interaction with (or polar cone of those we want a negative interaction with)."
   ]
  },
  {
   "cell_type": "code",
   "execution_count": 367,
   "id": "46e4b87f",
   "metadata": {},
   "outputs": [
    {
     "name": "stderr",
     "output_type": "stream",
     "text": [
      "100%|██████████| 169/169 [00:01<00:00, 162.38it/s]\n"
     ]
    }
   ],
   "source": [
    "Q = (min_var + (max_var-min_var))*np.random.rand()*np.eye(N)\n",
    "\n",
    "for i in tqdm(range(1,spl_i[1])):\n",
    "    Q[i] = rand_in_perp(Q[:i][~shffld[i,:i].astype(bool)],mxvars = max_var,minvars = min_var)\n"
   ]
  },
  {
   "cell_type": "code",
   "execution_count": 368,
   "id": "0109fdef",
   "metadata": {},
   "outputs": [
    {
     "data": {
      "text/plain": [
       "(170, 500)"
      ]
     },
     "execution_count": 368,
     "metadata": {},
     "output_type": "execute_result"
    }
   ],
   "source": [
    "Q[:spl_i[1]].shape"
   ]
  },
  {
   "cell_type": "code",
   "execution_count": 369,
   "id": "8e035c8a",
   "metadata": {},
   "outputs": [
    {
     "data": {
      "text/plain": [
       "170"
      ]
     },
     "execution_count": 369,
     "metadata": {},
     "output_type": "execute_result"
    }
   ],
   "source": [
    "np.linalg.matrix_rank(Q[:spl_i[1]])"
   ]
  },
  {
   "cell_type": "code",
   "execution_count": 370,
   "id": "ee948478",
   "metadata": {},
   "outputs": [
    {
     "data": {
      "text/plain": [
       "500"
      ]
     },
     "execution_count": 370,
     "metadata": {},
     "output_type": "execute_result"
    }
   ],
   "source": [
    "np.linalg.matrix_rank(Q)"
   ]
  },
  {
   "cell_type": "code",
   "execution_count": 391,
   "id": "e7be5f41",
   "metadata": {},
   "outputs": [
    {
     "name": "stderr",
     "output_type": "stream",
     "text": [
      "100%|██████████| 330/330 [00:19<00:00, 17.18it/s]\n"
     ]
    }
   ],
   "source": [
    "for i in tqdm(range(spl_i[1],N)):\n",
    "    r1 = rand_in_perp(Q[:i][~shffld[i,:i].astype(bool)],mxvars = max_var,minvars = min_var,bias = 1, neg = Q[:spl_i[1]][shffld[i,:spl_i[1]].astype(bool)])\n",
    "    r2 = rand_in_perp(Q[:i],mxvars = max_var,minvars = min_var,bias = 1, neg = Q[:spl_i[1]][shffld[i,:spl_i[1]].astype(bool)])\n",
    "    Q[i] = r1 + 2*r2\n",
    "covar = np.dot(Q,Q.T)"
   ]
  },
  {
   "cell_type": "code",
   "execution_count": 392,
   "id": "f77c2276",
   "metadata": {},
   "outputs": [
    {
     "data": {
      "text/plain": [
       "498"
      ]
     },
     "execution_count": 392,
     "metadata": {},
     "output_type": "execute_result"
    }
   ],
   "source": [
    "np.linalg.matrix_rank(covar,tol = 10**-8)"
   ]
  },
  {
   "cell_type": "code",
   "execution_count": 387,
   "id": "437420f2",
   "metadata": {},
   "outputs": [
    {
     "data": {
      "text/plain": [
       "7.352022199894568e-06"
      ]
     },
     "execution_count": 387,
     "metadata": {},
     "output_type": "execute_result"
    }
   ],
   "source": [
    "min(np.linalg.svd(covar)[1])"
   ]
  },
  {
   "cell_type": "code",
   "execution_count": 388,
   "id": "939e3ce2",
   "metadata": {},
   "outputs": [
    {
     "data": {
      "text/plain": [
       "array([], shape=(3, 0), dtype=float64)"
      ]
     },
     "execution_count": 388,
     "metadata": {},
     "output_type": "execute_result"
    }
   ],
   "source": [
    "la.null_space(np.random.rand(3,3))"
   ]
  },
  {
   "cell_type": "code",
   "execution_count": 389,
   "id": "6f30d04f",
   "metadata": {},
   "outputs": [
    {
     "data": {
      "text/plain": [
       "(500, 500)"
      ]
     },
     "execution_count": 389,
     "metadata": {},
     "output_type": "execute_result"
    }
   ],
   "source": [
    "covar.shape"
   ]
  },
  {
   "cell_type": "code",
   "execution_count": 390,
   "id": "2d05b0b9",
   "metadata": {},
   "outputs": [
    {
     "data": {
      "image/png": "[encoded data removed]",
      "text/plain": [
       "<Figure size 720x720 with 1 Axes>"
      ]
     },
     "metadata": {},
     "output_type": "display_data"
    }
   ],
   "source": [
    "fig,ax = plt.subplots(figsize = (10,10))\n",
    "\n",
    "ax.xaxis.set_tick_params(labelbottom=False)\n",
    "ax.yaxis.set_tick_params(labelleft=False)\n",
    "\n",
    "sb.heatmap(topQnet(covar.round(11),q = 0),cmap = \"bwr_r\",cbar = False,ax = ax,center = 0)\n",
    "\n",
    "ax.set_xticks([])\n",
    "ax.set_yticks([]);"
   ]
  },
  {
   "cell_type": "code",
   "execution_count": 382,
   "id": "0226eb66",
   "metadata": {},
   "outputs": [
    {
     "data": {
      "text/plain": [
       "0.47192982456140353"
      ]
     },
     "execution_count": 382,
     "metadata": {},
     "output_type": "execute_result"
    }
   ],
   "source": [
    "(covar[:spl_i[1],:spl_i[1]].round(8) < 0).sum()/(covar[:spl_i[1],:spl_i[1]].round(8) != 0).sum()"
   ]
  },
  {
   "cell_type": "code",
   "execution_count": 383,
   "id": "8db90155",
   "metadata": {},
   "outputs": [
    {
     "data": {
      "text/plain": [
       "0.37834489593657084"
      ]
     },
     "execution_count": 383,
     "metadata": {},
     "output_type": "execute_result"
    }
   ],
   "source": [
    "(covar[spl_i[1]:,spl_i[1]:].round(8) < 0).sum()/(covar[spl_i[1]:,spl_i[1]:].round(8) != 0).sum()"
   ]
  },
  {
   "cell_type": "code",
   "execution_count": 384,
   "id": "1d050794",
   "metadata": {},
   "outputs": [
    {
     "data": {
      "text/plain": [
       "1.0"
      ]
     },
     "execution_count": 384,
     "metadata": {},
     "output_type": "execute_result"
    }
   ],
   "source": [
    "(covar[:spl_i[1],spl_i[1]:].round(8) < 0).sum()/(covar[:spl_i[1],spl_i[1]:].round(8) != 0).sum()"
   ]
  },
  {
   "cell_type": "code",
   "execution_count": 85,
   "id": "28d48f81",
   "metadata": {},
   "outputs": [
    {
     "data": {
      "text/plain": [
       "3.737500505756549e-16"
      ]
     },
     "execution_count": 85,
     "metadata": {},
     "output_type": "execute_result"
    }
   ],
   "source": [
    "min(np.linalg.svd(covar)[1])"
   ]
  },
  {
   "cell_type": "code",
   "execution_count": 72,
   "id": "8888ca74",
   "metadata": {},
   "outputs": [
    {
     "data": {
      "text/plain": [
       "488"
      ]
     },
     "execution_count": 72,
     "metadata": {},
     "output_type": "execute_result"
    }
   ],
   "source": [
    "np.linalg.matrix_rank(covar)"
   ]
  },
  {
   "cell_type": "markdown",
   "id": "35ee0be6",
   "metadata": {},
   "source": [
    "The function that combines these steps is ```create_groundtruth_covariance```"
   ]
  },
  {
   "cell_type": "code",
   "execution_count": 97,
   "id": "3acf613f",
   "metadata": {},
   "outputs": [],
   "source": [
    "%run synthetic_fit_funcs.py"
   ]
  },
  {
   "cell_type": "code",
   "execution_count": 98,
   "id": "eea196e7",
   "metadata": {},
   "outputs": [
    {
     "name": "stderr",
     "output_type": "stream",
     "text": [
      " 20%|██        | 48/237 [00:00<00:00, 474.37it/s]"
     ]
    },
    {
     "name": "stdout",
     "output_type": "stream",
     "text": [
      "[create_groundtruth_covariance] Generating cholesky decomposition\n"
     ]
    },
    {
     "name": "stderr",
     "output_type": "stream",
     "text": [
      "100%|██████████| 237/237 [00:01<00:00, 145.15it/s]\n",
      "100%|██████████| 263/263 [00:06<00:00, 39.70it/s]\n"
     ]
    }
   ],
   "source": [
    "covar_matrix, actual_sparsity = create_groundtruth_covariance(N,grmod,gsp,spl_i,mxvars=max_var,minvars=min_var,bias_blocks=None,bias_str=0.8,sparse_adjust = sparse_adjust)"
   ]
  },
  {
   "cell_type": "code",
   "execution_count": 99,
   "id": "9646fc00",
   "metadata": {},
   "outputs": [
    {
     "data": {
      "image/png": "[encoded data removed]",
      "text/plain": [
       "<Figure size 720x720 with 1 Axes>"
      ]
     },
     "metadata": {},
     "output_type": "display_data"
    }
   ],
   "source": [
    "fig,ax = plt.subplots(figsize = (10,10))\n",
    "\n",
    "ax.xaxis.set_tick_params(labelbottom=False)\n",
    "ax.yaxis.set_tick_params(labelleft=False)\n",
    "\n",
    "sb.heatmap(topQnet(covar_matrix.round(8),q = 0),cmap = \"bwr_r\",cbar = False,ax = ax,center = 0)\n",
    "\n",
    "ax.set_xticks([])\n",
    "ax.set_yticks([]);"
   ]
  },
  {
   "cell_type": "code",
   "execution_count": 100,
   "id": "9f736547",
   "metadata": {},
   "outputs": [
    {
     "data": {
      "text/plain": [
       "<AxesSubplot:xlabel='Block', ylabel='Edge'>"
      ]
     },
     "execution_count": 100,
     "metadata": {},
     "output_type": "execute_result"
    },
    {
     "data": {
      "image/png": "[encoded data removed]",
      "text/plain": [
       "<Figure size 432x288 with 1 Axes>"
      ]
     },
     "metadata": {
      "needs_background": "light"
     },
     "output_type": "display_data"
    }
   ],
   "source": [
    "kingdom1 = covar_matrix[:spl_i[1],:spl_i[1]].flatten()\n",
    "kingdom2 = covar_matrix[spl_i[1]:,spl_i[1]:].flatten()\n",
    "Xkingdom = covar_matrix[:spl_i[1],spl_i[1]:].flatten()\n",
    "alledges = pd.DataFrame(np.array([np.concatenate([kingdom1,kingdom2,Xkingdom]).round(5),[\"Kingdom 1\"]*len(kingdom1)+[\"Kingdom 2\"]*len(kingdom2) + [\"Cross Kingdom\"]*len(Xkingdom)]).T)\n",
    "alledges.columns = [\"Edge\",\"Block\"]\n",
    "alledges['Edge'] = alledges['Edge'].astype(float)\n",
    "sb.boxplot(data = alledges[alledges[\"Edge\"] != 0],y = \"Edge\",x = \"Block\")"
   ]
  },
  {
   "cell_type": "markdown",
   "id": "ccd4fc66",
   "metadata": {},
   "source": [
    "Next we generate synthetic \"true\" taxa abundance for each sample, simply by drawing from a log-normal distribution. This is achieved by the ```generate_synthetic_samples``` function, which also randomly draws a vector of mean abundances."
   ]
  },
  {
   "cell_type": "code",
   "execution_count": 30,
   "id": "bcbc415a",
   "metadata": {},
   "outputs": [
    {
     "name": "stderr",
     "output_type": "stream",
     "text": [
      "\r",
      "  0%|          | 0/150 [00:00<?, ?it/s]"
     ]
    },
    {
     "name": "stdout",
     "output_type": "stream",
     "text": [
      "[generate_synthetic_samples] Drawing 150 Samples for 500 taxa\n"
     ]
    },
    {
     "name": "stderr",
     "output_type": "stream",
     "text": [
      "100%|██████████| 150/150 [00:07<00:00, 20.79it/s]\n"
     ]
    }
   ],
   "source": [
    "absolute_abundance,_ = generate_synthetic_samples(M,covar_matrix,mean_log_range = mean_spread,mean_log_center = mean_center)"
   ]
  },
  {
   "cell_type": "code",
   "execution_count": 31,
   "id": "cfe31a80",
   "metadata": {},
   "outputs": [
    {
     "data": {
      "text/html": [
       "<div>\n",
       "<style scoped>\n",
       "    .dataframe tbody tr th:only-of-type {\n",
       "        vertical-align: middle;\n",
       "    }\n",
       "\n",
       "    .dataframe tbody tr th {\n",
       "        vertical-align: top;\n",
       "    }\n",
       "\n",
       "    .dataframe thead th {\n",
       "        text-align: right;\n",
       "    }\n",
       "</style>\n",
       "<table border=\"1\" class=\"dataframe\">\n",
       "  <thead>\n",
       "    <tr style=\"text-align: right;\">\n",
       "      <th></th>\n",
       "      <th>S0</th>\n",
       "      <th>S1</th>\n",
       "      <th>S2</th>\n",
       "      <th>S3</th>\n",
       "      <th>S4</th>\n",
       "      <th>S5</th>\n",
       "      <th>S6</th>\n",
       "      <th>S7</th>\n",
       "      <th>S8</th>\n",
       "      <th>S9</th>\n",
       "      <th>...</th>\n",
       "      <th>S140</th>\n",
       "      <th>S141</th>\n",
       "      <th>S142</th>\n",
       "      <th>S143</th>\n",
       "      <th>S144</th>\n",
       "      <th>S145</th>\n",
       "      <th>S146</th>\n",
       "      <th>S147</th>\n",
       "      <th>S148</th>\n",
       "      <th>S149</th>\n",
       "    </tr>\n",
       "  </thead>\n",
       "  <tbody>\n",
       "    <tr>\n",
       "      <th>0</th>\n",
       "      <td>0.379329</td>\n",
       "      <td>2.125491</td>\n",
       "      <td>2.087712</td>\n",
       "      <td>2.870420</td>\n",
       "      <td>1.025765</td>\n",
       "      <td>8.565928</td>\n",
       "      <td>3.916336</td>\n",
       "      <td>3.530386</td>\n",
       "      <td>1.530494</td>\n",
       "      <td>0.846550</td>\n",
       "      <td>...</td>\n",
       "      <td>3.794360</td>\n",
       "      <td>2.912683</td>\n",
       "      <td>3.019321</td>\n",
       "      <td>1.806374</td>\n",
       "      <td>0.900212</td>\n",
       "      <td>0.673878</td>\n",
       "      <td>1.187524</td>\n",
       "      <td>1.358361</td>\n",
       "      <td>2.597537</td>\n",
       "      <td>1.725046</td>\n",
       "    </tr>\n",
       "    <tr>\n",
       "      <th>1</th>\n",
       "      <td>0.606003</td>\n",
       "      <td>0.472983</td>\n",
       "      <td>0.748652</td>\n",
       "      <td>0.844993</td>\n",
       "      <td>0.811071</td>\n",
       "      <td>0.254297</td>\n",
       "      <td>0.499367</td>\n",
       "      <td>0.768882</td>\n",
       "      <td>1.135604</td>\n",
       "      <td>0.800742</td>\n",
       "      <td>...</td>\n",
       "      <td>0.215083</td>\n",
       "      <td>0.286355</td>\n",
       "      <td>0.796666</td>\n",
       "      <td>0.956499</td>\n",
       "      <td>0.507093</td>\n",
       "      <td>1.484827</td>\n",
       "      <td>0.373214</td>\n",
       "      <td>1.004456</td>\n",
       "      <td>0.679736</td>\n",
       "      <td>0.395961</td>\n",
       "    </tr>\n",
       "    <tr>\n",
       "      <th>2</th>\n",
       "      <td>4.107036</td>\n",
       "      <td>0.102662</td>\n",
       "      <td>1.922574</td>\n",
       "      <td>1.897140</td>\n",
       "      <td>0.682537</td>\n",
       "      <td>3.549243</td>\n",
       "      <td>0.688963</td>\n",
       "      <td>2.903978</td>\n",
       "      <td>1.154619</td>\n",
       "      <td>1.427763</td>\n",
       "      <td>...</td>\n",
       "      <td>0.464980</td>\n",
       "      <td>0.327778</td>\n",
       "      <td>0.429561</td>\n",
       "      <td>0.518806</td>\n",
       "      <td>0.361605</td>\n",
       "      <td>0.840107</td>\n",
       "      <td>1.703427</td>\n",
       "      <td>1.425120</td>\n",
       "      <td>0.348373</td>\n",
       "      <td>0.317244</td>\n",
       "    </tr>\n",
       "    <tr>\n",
       "      <th>3</th>\n",
       "      <td>6.692157</td>\n",
       "      <td>4.491721</td>\n",
       "      <td>3.877759</td>\n",
       "      <td>1.356590</td>\n",
       "      <td>0.385702</td>\n",
       "      <td>0.841109</td>\n",
       "      <td>29.725924</td>\n",
       "      <td>7.645719</td>\n",
       "      <td>6.129338</td>\n",
       "      <td>19.808591</td>\n",
       "      <td>...</td>\n",
       "      <td>0.530737</td>\n",
       "      <td>6.102039</td>\n",
       "      <td>0.667189</td>\n",
       "      <td>4.684959</td>\n",
       "      <td>2.038564</td>\n",
       "      <td>2.115949</td>\n",
       "      <td>0.459974</td>\n",
       "      <td>168.848143</td>\n",
       "      <td>3.779399</td>\n",
       "      <td>6.046556</td>\n",
       "    </tr>\n",
       "    <tr>\n",
       "      <th>4</th>\n",
       "      <td>16.709248</td>\n",
       "      <td>0.022348</td>\n",
       "      <td>1.264393</td>\n",
       "      <td>3.315478</td>\n",
       "      <td>2.114878</td>\n",
       "      <td>3.942100</td>\n",
       "      <td>1.389129</td>\n",
       "      <td>10.902011</td>\n",
       "      <td>3.216001</td>\n",
       "      <td>46.565404</td>\n",
       "      <td>...</td>\n",
       "      <td>0.218428</td>\n",
       "      <td>5.136035</td>\n",
       "      <td>0.334521</td>\n",
       "      <td>3.747675</td>\n",
       "      <td>1.484503</td>\n",
       "      <td>1.304837</td>\n",
       "      <td>2.944983</td>\n",
       "      <td>11.822386</td>\n",
       "      <td>0.050060</td>\n",
       "      <td>1.116997</td>\n",
       "    </tr>\n",
       "    <tr>\n",
       "      <th>5</th>\n",
       "      <td>0.425714</td>\n",
       "      <td>0.534419</td>\n",
       "      <td>0.194598</td>\n",
       "      <td>0.019526</td>\n",
       "      <td>0.216504</td>\n",
       "      <td>0.078877</td>\n",
       "      <td>0.200825</td>\n",
       "      <td>0.253237</td>\n",
       "      <td>0.075903</td>\n",
       "      <td>0.303022</td>\n",
       "      <td>...</td>\n",
       "      <td>0.456816</td>\n",
       "      <td>0.088400</td>\n",
       "      <td>0.318658</td>\n",
       "      <td>0.305282</td>\n",
       "      <td>0.408376</td>\n",
       "      <td>0.041530</td>\n",
       "      <td>0.104344</td>\n",
       "      <td>0.335817</td>\n",
       "      <td>0.379958</td>\n",
       "      <td>0.046544</td>\n",
       "    </tr>\n",
       "    <tr>\n",
       "      <th>6</th>\n",
       "      <td>0.437613</td>\n",
       "      <td>0.429766</td>\n",
       "      <td>1.107128</td>\n",
       "      <td>0.024244</td>\n",
       "      <td>0.474435</td>\n",
       "      <td>0.052009</td>\n",
       "      <td>0.212094</td>\n",
       "      <td>0.153046</td>\n",
       "      <td>0.685267</td>\n",
       "      <td>0.613585</td>\n",
       "      <td>...</td>\n",
       "      <td>0.054376</td>\n",
       "      <td>0.031470</td>\n",
       "      <td>0.348879</td>\n",
       "      <td>0.211941</td>\n",
       "      <td>0.387865</td>\n",
       "      <td>0.014087</td>\n",
       "      <td>0.253319</td>\n",
       "      <td>0.281008</td>\n",
       "      <td>0.148084</td>\n",
       "      <td>0.003836</td>\n",
       "    </tr>\n",
       "    <tr>\n",
       "      <th>7</th>\n",
       "      <td>0.061665</td>\n",
       "      <td>0.070004</td>\n",
       "      <td>0.169772</td>\n",
       "      <td>0.049300</td>\n",
       "      <td>0.306526</td>\n",
       "      <td>0.123650</td>\n",
       "      <td>0.170888</td>\n",
       "      <td>0.355494</td>\n",
       "      <td>0.085903</td>\n",
       "      <td>0.138304</td>\n",
       "      <td>...</td>\n",
       "      <td>0.116080</td>\n",
       "      <td>0.268594</td>\n",
       "      <td>0.147052</td>\n",
       "      <td>0.447942</td>\n",
       "      <td>0.113942</td>\n",
       "      <td>0.430175</td>\n",
       "      <td>0.493937</td>\n",
       "      <td>0.182145</td>\n",
       "      <td>0.343693</td>\n",
       "      <td>0.212337</td>\n",
       "    </tr>\n",
       "    <tr>\n",
       "      <th>8</th>\n",
       "      <td>0.342766</td>\n",
       "      <td>0.255247</td>\n",
       "      <td>0.625034</td>\n",
       "      <td>0.354473</td>\n",
       "      <td>1.126406</td>\n",
       "      <td>0.244788</td>\n",
       "      <td>0.432171</td>\n",
       "      <td>1.099352</td>\n",
       "      <td>0.428398</td>\n",
       "      <td>0.383964</td>\n",
       "      <td>...</td>\n",
       "      <td>0.435375</td>\n",
       "      <td>0.499546</td>\n",
       "      <td>0.489049</td>\n",
       "      <td>0.832218</td>\n",
       "      <td>0.295888</td>\n",
       "      <td>1.440390</td>\n",
       "      <td>0.688297</td>\n",
       "      <td>0.777424</td>\n",
       "      <td>0.822837</td>\n",
       "      <td>0.497085</td>\n",
       "    </tr>\n",
       "    <tr>\n",
       "      <th>9</th>\n",
       "      <td>46.255221</td>\n",
       "      <td>7.305433</td>\n",
       "      <td>2.136083</td>\n",
       "      <td>94.906857</td>\n",
       "      <td>1.707727</td>\n",
       "      <td>105.494660</td>\n",
       "      <td>5.501264</td>\n",
       "      <td>7.603232</td>\n",
       "      <td>11.526338</td>\n",
       "      <td>106.255588</td>\n",
       "      <td>...</td>\n",
       "      <td>2.722999</td>\n",
       "      <td>12.253605</td>\n",
       "      <td>3.576081</td>\n",
       "      <td>0.804224</td>\n",
       "      <td>10.448227</td>\n",
       "      <td>59.698819</td>\n",
       "      <td>41.118459</td>\n",
       "      <td>3.446718</td>\n",
       "      <td>8.427583</td>\n",
       "      <td>5.241904</td>\n",
       "    </tr>\n",
       "  </tbody>\n",
       "</table>\n",
       "<p>10 rows × 150 columns</p>\n",
       "</div>"
      ],
      "text/plain": [
       "          S0        S1        S2         S3        S4          S5         S6  \\\n",
       "0   0.379329  2.125491  2.087712   2.870420  1.025765    8.565928   3.916336   \n",
       "1   0.606003  0.472983  0.748652   0.844993  0.811071    0.254297   0.499367   \n",
       "2   4.107036  0.102662  1.922574   1.897140  0.682537    3.549243   0.688963   \n",
       "3   6.692157  4.491721  3.877759   1.356590  0.385702    0.841109  29.725924   \n",
       "4  16.709248  0.022348  1.264393   3.315478  2.114878    3.942100   1.389129   \n",
       "5   0.425714  0.534419  0.194598   0.019526  0.216504    0.078877   0.200825   \n",
       "6   0.437613  0.429766  1.107128   0.024244  0.474435    0.052009   0.212094   \n",
       "7   0.061665  0.070004  0.169772   0.049300  0.306526    0.123650   0.170888   \n",
       "8   0.342766  0.255247  0.625034   0.354473  1.126406    0.244788   0.432171   \n",
       "9  46.255221  7.305433  2.136083  94.906857  1.707727  105.494660   5.501264   \n",
       "\n",
       "          S7         S8          S9  ...      S140       S141      S142  \\\n",
       "0   3.530386   1.530494    0.846550  ...  3.794360   2.912683  3.019321   \n",
       "1   0.768882   1.135604    0.800742  ...  0.215083   0.286355  0.796666   \n",
       "2   2.903978   1.154619    1.427763  ...  0.464980   0.327778  0.429561   \n",
       "3   7.645719   6.129338   19.808591  ...  0.530737   6.102039  0.667189   \n",
       "4  10.902011   3.216001   46.565404  ...  0.218428   5.136035  0.334521   \n",
       "5   0.253237   0.075903    0.303022  ...  0.456816   0.088400  0.318658   \n",
       "6   0.153046   0.685267    0.613585  ...  0.054376   0.031470  0.348879   \n",
       "7   0.355494   0.085903    0.138304  ...  0.116080   0.268594  0.147052   \n",
       "8   1.099352   0.428398    0.383964  ...  0.435375   0.499546  0.489049   \n",
       "9   7.603232  11.526338  106.255588  ...  2.722999  12.253605  3.576081   \n",
       "\n",
       "       S143       S144       S145       S146        S147      S148      S149  \n",
       "0  1.806374   0.900212   0.673878   1.187524    1.358361  2.597537  1.725046  \n",
       "1  0.956499   0.507093   1.484827   0.373214    1.004456  0.679736  0.395961  \n",
       "2  0.518806   0.361605   0.840107   1.703427    1.425120  0.348373  0.317244  \n",
       "3  4.684959   2.038564   2.115949   0.459974  168.848143  3.779399  6.046556  \n",
       "4  3.747675   1.484503   1.304837   2.944983   11.822386  0.050060  1.116997  \n",
       "5  0.305282   0.408376   0.041530   0.104344    0.335817  0.379958  0.046544  \n",
       "6  0.211941   0.387865   0.014087   0.253319    0.281008  0.148084  0.003836  \n",
       "7  0.447942   0.113942   0.430175   0.493937    0.182145  0.343693  0.212337  \n",
       "8  0.832218   0.295888   1.440390   0.688297    0.777424  0.822837  0.497085  \n",
       "9  0.804224  10.448227  59.698819  41.118459    3.446718  8.427583  5.241904  \n",
       "\n",
       "[10 rows x 150 columns]"
      ]
     },
     "execution_count": 31,
     "metadata": {},
     "output_type": "execute_result"
    }
   ],
   "source": [
    "absolute_abundance.head(10)"
   ]
  },
  {
   "cell_type": "markdown",
   "id": "c393ffdb",
   "metadata": {},
   "source": [
    "Next we choose which taxa belong to which kingdom. Notice that our model assumes that covariances across kingdoms and within kingdoms are evenly distributed. In other words, it assumes that the only distinction between kingdoms is in how abundances are measured. To change this, one could use a different method of constructing the underlying covariance matrix (e.g. by choosing one kingdom's intra-kingdom edges to be denser than the others). We have not implemented this functionality. "
   ]
  },
  {
   "cell_type": "code",
   "execution_count": 32,
   "id": "3395211c",
   "metadata": {},
   "outputs": [],
   "source": [
    "minsplit = int(0.2*N)\n",
    "maxsplit = int(0.8*N)\n",
    "splits = np.sort(np.random.choice(range(minsplit,maxsplit),size = ns-1,replace = False))\n",
    "\n",
    "spl_i = np.concatenate([[0],splits,[N]])"
   ]
  },
  {
   "cell_type": "markdown",
   "id": "3d58d49e",
   "metadata": {},
   "source": [
    "Finally, we simulate generating reads for each data type. This process is slow, so we run in parallel with the ```simulate_all_reads``` function. Each read for each sample for each data type is accomplished by drawing from the distribution defined by the true relative abundances (within a kingdom) of the sample."
   ]
  },
  {
   "cell_type": "code",
   "execution_count": 33,
   "id": "dce03e2f",
   "metadata": {},
   "outputs": [
    {
     "name": "stdout",
     "output_type": "stream",
     "text": [
      "[simulate_all_reads] Drawing Read Assignments for 133 taxa, 150 samples.\n",
      "[simulate_all_reads] Drawing Read Assignments for 367 taxa, 150 samples.\n"
     ]
    }
   ],
   "source": [
    "read_depths = {}\n",
    "sep_reads = {}\n",
    "reads_order = []\n",
    "combined_reads = pd.DataFrame()\n",
    "for j in range(1,ns+1):\n",
    "    dpths = np.random.normal(avgdpth,stddpth,size = M).astype(int)\n",
    "    read_depths[\"Set{}\".format(j)] = dpths\n",
    "    rd = simulate_all_reads(absolute_abundance.iloc[spl_i[j-1]:spl_i[j]],dpths,nj = simulate_reads_tasks)\n",
    "    sep_reads[\"Set{}\".format(j)] = rd\n",
    "    reads_order += [(spl_i[j-1],spl_i[j])]\n",
    "    combined_reads = pd.concat([combined_reads,rd])"
   ]
  },
  {
   "cell_type": "code",
   "execution_count": 34,
   "id": "a968ca42",
   "metadata": {},
   "outputs": [
    {
     "data": {
      "text/html": [
       "<div>\n",
       "<style scoped>\n",
       "    .dataframe tbody tr th:only-of-type {\n",
       "        vertical-align: middle;\n",
       "    }\n",
       "\n",
       "    .dataframe tbody tr th {\n",
       "        vertical-align: top;\n",
       "    }\n",
       "\n",
       "    .dataframe thead th {\n",
       "        text-align: right;\n",
       "    }\n",
       "</style>\n",
       "<table border=\"1\" class=\"dataframe\">\n",
       "  <thead>\n",
       "    <tr style=\"text-align: right;\">\n",
       "      <th></th>\n",
       "      <th>S0</th>\n",
       "      <th>S1</th>\n",
       "      <th>S2</th>\n",
       "      <th>S3</th>\n",
       "      <th>S4</th>\n",
       "      <th>S5</th>\n",
       "      <th>S6</th>\n",
       "      <th>S7</th>\n",
       "      <th>S8</th>\n",
       "      <th>S9</th>\n",
       "      <th>...</th>\n",
       "      <th>S140</th>\n",
       "      <th>S141</th>\n",
       "      <th>S142</th>\n",
       "      <th>S143</th>\n",
       "      <th>S144</th>\n",
       "      <th>S145</th>\n",
       "      <th>S146</th>\n",
       "      <th>S147</th>\n",
       "      <th>S148</th>\n",
       "      <th>S149</th>\n",
       "    </tr>\n",
       "  </thead>\n",
       "  <tbody>\n",
       "    <tr>\n",
       "      <th>0</th>\n",
       "      <td>80</td>\n",
       "      <td>669</td>\n",
       "      <td>524</td>\n",
       "      <td>385</td>\n",
       "      <td>70</td>\n",
       "      <td>745</td>\n",
       "      <td>988</td>\n",
       "      <td>414</td>\n",
       "      <td>247</td>\n",
       "      <td>143</td>\n",
       "      <td>...</td>\n",
       "      <td>406</td>\n",
       "      <td>408</td>\n",
       "      <td>778</td>\n",
       "      <td>171</td>\n",
       "      <td>194</td>\n",
       "      <td>98</td>\n",
       "      <td>391</td>\n",
       "      <td>148</td>\n",
       "      <td>610</td>\n",
       "      <td>430</td>\n",
       "    </tr>\n",
       "    <tr>\n",
       "      <th>1</th>\n",
       "      <td>110</td>\n",
       "      <td>154</td>\n",
       "      <td>208</td>\n",
       "      <td>110</td>\n",
       "      <td>58</td>\n",
       "      <td>20</td>\n",
       "      <td>140</td>\n",
       "      <td>76</td>\n",
       "      <td>173</td>\n",
       "      <td>184</td>\n",
       "      <td>...</td>\n",
       "      <td>19</td>\n",
       "      <td>40</td>\n",
       "      <td>210</td>\n",
       "      <td>88</td>\n",
       "      <td>133</td>\n",
       "      <td>212</td>\n",
       "      <td>134</td>\n",
       "      <td>100</td>\n",
       "      <td>170</td>\n",
       "      <td>105</td>\n",
       "    </tr>\n",
       "    <tr>\n",
       "      <th>2</th>\n",
       "      <td>734</td>\n",
       "      <td>31</td>\n",
       "      <td>487</td>\n",
       "      <td>240</td>\n",
       "      <td>40</td>\n",
       "      <td>267</td>\n",
       "      <td>140</td>\n",
       "      <td>334</td>\n",
       "      <td>184</td>\n",
       "      <td>256</td>\n",
       "      <td>...</td>\n",
       "      <td>55</td>\n",
       "      <td>45</td>\n",
       "      <td>86</td>\n",
       "      <td>47</td>\n",
       "      <td>71</td>\n",
       "      <td>118</td>\n",
       "      <td>613</td>\n",
       "      <td>173</td>\n",
       "      <td>77</td>\n",
       "      <td>87</td>\n",
       "    </tr>\n",
       "    <tr>\n",
       "      <th>3</th>\n",
       "      <td>1189</td>\n",
       "      <td>1435</td>\n",
       "      <td>1006</td>\n",
       "      <td>176</td>\n",
       "      <td>28</td>\n",
       "      <td>58</td>\n",
       "      <td>7414</td>\n",
       "      <td>929</td>\n",
       "      <td>1012</td>\n",
       "      <td>3737</td>\n",
       "      <td>...</td>\n",
       "      <td>69</td>\n",
       "      <td>829</td>\n",
       "      <td>185</td>\n",
       "      <td>437</td>\n",
       "      <td>489</td>\n",
       "      <td>351</td>\n",
       "      <td>149</td>\n",
       "      <td>18581</td>\n",
       "      <td>925</td>\n",
       "      <td>1504</td>\n",
       "    </tr>\n",
       "    <tr>\n",
       "      <th>4</th>\n",
       "      <td>2936</td>\n",
       "      <td>9</td>\n",
       "      <td>323</td>\n",
       "      <td>444</td>\n",
       "      <td>177</td>\n",
       "      <td>319</td>\n",
       "      <td>332</td>\n",
       "      <td>1299</td>\n",
       "      <td>515</td>\n",
       "      <td>9126</td>\n",
       "      <td>...</td>\n",
       "      <td>24</td>\n",
       "      <td>679</td>\n",
       "      <td>79</td>\n",
       "      <td>342</td>\n",
       "      <td>312</td>\n",
       "      <td>198</td>\n",
       "      <td>1002</td>\n",
       "      <td>1275</td>\n",
       "      <td>8</td>\n",
       "      <td>303</td>\n",
       "    </tr>\n",
       "    <tr>\n",
       "      <th>5</th>\n",
       "      <td>73</td>\n",
       "      <td>151</td>\n",
       "      <td>52</td>\n",
       "      <td>4</td>\n",
       "      <td>18</td>\n",
       "      <td>10</td>\n",
       "      <td>54</td>\n",
       "      <td>28</td>\n",
       "      <td>11</td>\n",
       "      <td>55</td>\n",
       "      <td>...</td>\n",
       "      <td>45</td>\n",
       "      <td>11</td>\n",
       "      <td>67</td>\n",
       "      <td>27</td>\n",
       "      <td>104</td>\n",
       "      <td>1</td>\n",
       "      <td>48</td>\n",
       "      <td>49</td>\n",
       "      <td>105</td>\n",
       "      <td>12</td>\n",
       "    </tr>\n",
       "    <tr>\n",
       "      <th>6</th>\n",
       "      <td>86</td>\n",
       "      <td>134</td>\n",
       "      <td>296</td>\n",
       "      <td>4</td>\n",
       "      <td>41</td>\n",
       "      <td>8</td>\n",
       "      <td>51</td>\n",
       "      <td>21</td>\n",
       "      <td>106</td>\n",
       "      <td>121</td>\n",
       "      <td>...</td>\n",
       "      <td>5</td>\n",
       "      <td>0</td>\n",
       "      <td>99</td>\n",
       "      <td>19</td>\n",
       "      <td>81</td>\n",
       "      <td>3</td>\n",
       "      <td>99</td>\n",
       "      <td>22</td>\n",
       "      <td>36</td>\n",
       "      <td>0</td>\n",
       "    </tr>\n",
       "    <tr>\n",
       "      <th>7</th>\n",
       "      <td>17</td>\n",
       "      <td>21</td>\n",
       "      <td>51</td>\n",
       "      <td>6</td>\n",
       "      <td>18</td>\n",
       "      <td>11</td>\n",
       "      <td>53</td>\n",
       "      <td>42</td>\n",
       "      <td>8</td>\n",
       "      <td>29</td>\n",
       "      <td>...</td>\n",
       "      <td>11</td>\n",
       "      <td>30</td>\n",
       "      <td>35</td>\n",
       "      <td>28</td>\n",
       "      <td>32</td>\n",
       "      <td>59</td>\n",
       "      <td>174</td>\n",
       "      <td>21</td>\n",
       "      <td>99</td>\n",
       "      <td>60</td>\n",
       "    </tr>\n",
       "    <tr>\n",
       "      <th>8</th>\n",
       "      <td>65</td>\n",
       "      <td>88</td>\n",
       "      <td>155</td>\n",
       "      <td>59</td>\n",
       "      <td>84</td>\n",
       "      <td>22</td>\n",
       "      <td>105</td>\n",
       "      <td>139</td>\n",
       "      <td>68</td>\n",
       "      <td>104</td>\n",
       "      <td>...</td>\n",
       "      <td>46</td>\n",
       "      <td>67</td>\n",
       "      <td>127</td>\n",
       "      <td>92</td>\n",
       "      <td>78</td>\n",
       "      <td>200</td>\n",
       "      <td>232</td>\n",
       "      <td>81</td>\n",
       "      <td>191</td>\n",
       "      <td>113</td>\n",
       "    </tr>\n",
       "    <tr>\n",
       "      <th>9</th>\n",
       "      <td>8136</td>\n",
       "      <td>2259</td>\n",
       "      <td>554</td>\n",
       "      <td>13114</td>\n",
       "      <td>110</td>\n",
       "      <td>8760</td>\n",
       "      <td>1383</td>\n",
       "      <td>889</td>\n",
       "      <td>1814</td>\n",
       "      <td>20672</td>\n",
       "      <td>...</td>\n",
       "      <td>253</td>\n",
       "      <td>1617</td>\n",
       "      <td>910</td>\n",
       "      <td>83</td>\n",
       "      <td>2279</td>\n",
       "      <td>9024</td>\n",
       "      <td>14239</td>\n",
       "      <td>376</td>\n",
       "      <td>2099</td>\n",
       "      <td>1300</td>\n",
       "    </tr>\n",
       "  </tbody>\n",
       "</table>\n",
       "<p>10 rows × 150 columns</p>\n",
       "</div>"
      ],
      "text/plain": [
       "     S0    S1    S2     S3   S4    S5    S6    S7    S8     S9  ...  S140  \\\n",
       "0    80   669   524    385   70   745   988   414   247    143  ...   406   \n",
       "1   110   154   208    110   58    20   140    76   173    184  ...    19   \n",
       "2   734    31   487    240   40   267   140   334   184    256  ...    55   \n",
       "3  1189  1435  1006    176   28    58  7414   929  1012   3737  ...    69   \n",
       "4  2936     9   323    444  177   319   332  1299   515   9126  ...    24   \n",
       "5    73   151    52      4   18    10    54    28    11     55  ...    45   \n",
       "6    86   134   296      4   41     8    51    21   106    121  ...     5   \n",
       "7    17    21    51      6   18    11    53    42     8     29  ...    11   \n",
       "8    65    88   155     59   84    22   105   139    68    104  ...    46   \n",
       "9  8136  2259   554  13114  110  8760  1383   889  1814  20672  ...   253   \n",
       "\n",
       "   S141  S142  S143  S144  S145   S146   S147  S148  S149  \n",
       "0   408   778   171   194    98    391    148   610   430  \n",
       "1    40   210    88   133   212    134    100   170   105  \n",
       "2    45    86    47    71   118    613    173    77    87  \n",
       "3   829   185   437   489   351    149  18581   925  1504  \n",
       "4   679    79   342   312   198   1002   1275     8   303  \n",
       "5    11    67    27   104     1     48     49   105    12  \n",
       "6     0    99    19    81     3     99     22    36     0  \n",
       "7    30    35    28    32    59    174     21    99    60  \n",
       "8    67   127    92    78   200    232     81   191   113  \n",
       "9  1617   910    83  2279  9024  14239    376  2099  1300  \n",
       "\n",
       "[10 rows x 150 columns]"
      ]
     },
     "execution_count": 34,
     "metadata": {},
     "output_type": "execute_result"
    }
   ],
   "source": [
    "sep_reads[\"Set1\"].head(10)"
   ]
  },
  {
   "cell_type": "code",
   "execution_count": 35,
   "id": "c1d3bc77",
   "metadata": {},
   "outputs": [
    {
     "data": {
      "text/html": [
       "<div>\n",
       "<style scoped>\n",
       "    .dataframe tbody tr th:only-of-type {\n",
       "        vertical-align: middle;\n",
       "    }\n",
       "\n",
       "    .dataframe tbody tr th {\n",
       "        vertical-align: top;\n",
       "    }\n",
       "\n",
       "    .dataframe thead th {\n",
       "        text-align: right;\n",
       "    }\n",
       "</style>\n",
       "<table border=\"1\" class=\"dataframe\">\n",
       "  <thead>\n",
       "    <tr style=\"text-align: right;\">\n",
       "      <th></th>\n",
       "      <th>S0</th>\n",
       "      <th>S1</th>\n",
       "      <th>S2</th>\n",
       "      <th>S3</th>\n",
       "      <th>S4</th>\n",
       "      <th>S5</th>\n",
       "      <th>S6</th>\n",
       "      <th>S7</th>\n",
       "      <th>S8</th>\n",
       "      <th>S9</th>\n",
       "      <th>...</th>\n",
       "      <th>S140</th>\n",
       "      <th>S141</th>\n",
       "      <th>S142</th>\n",
       "      <th>S143</th>\n",
       "      <th>S144</th>\n",
       "      <th>S145</th>\n",
       "      <th>S146</th>\n",
       "      <th>S147</th>\n",
       "      <th>S148</th>\n",
       "      <th>S149</th>\n",
       "    </tr>\n",
       "  </thead>\n",
       "  <tbody>\n",
       "    <tr>\n",
       "      <th>133</th>\n",
       "      <td>76</td>\n",
       "      <td>24</td>\n",
       "      <td>56</td>\n",
       "      <td>66</td>\n",
       "      <td>64</td>\n",
       "      <td>34</td>\n",
       "      <td>26</td>\n",
       "      <td>86</td>\n",
       "      <td>25</td>\n",
       "      <td>106</td>\n",
       "      <td>...</td>\n",
       "      <td>61</td>\n",
       "      <td>21</td>\n",
       "      <td>43</td>\n",
       "      <td>38</td>\n",
       "      <td>101</td>\n",
       "      <td>12</td>\n",
       "      <td>25</td>\n",
       "      <td>58</td>\n",
       "      <td>7</td>\n",
       "      <td>38</td>\n",
       "    </tr>\n",
       "    <tr>\n",
       "      <th>134</th>\n",
       "      <td>4</td>\n",
       "      <td>43</td>\n",
       "      <td>0</td>\n",
       "      <td>4</td>\n",
       "      <td>4</td>\n",
       "      <td>8</td>\n",
       "      <td>12</td>\n",
       "      <td>33</td>\n",
       "      <td>19</td>\n",
       "      <td>287</td>\n",
       "      <td>...</td>\n",
       "      <td>18</td>\n",
       "      <td>7</td>\n",
       "      <td>9</td>\n",
       "      <td>2</td>\n",
       "      <td>11</td>\n",
       "      <td>1</td>\n",
       "      <td>20</td>\n",
       "      <td>10</td>\n",
       "      <td>6</td>\n",
       "      <td>3</td>\n",
       "    </tr>\n",
       "    <tr>\n",
       "      <th>135</th>\n",
       "      <td>46</td>\n",
       "      <td>19</td>\n",
       "      <td>8</td>\n",
       "      <td>52</td>\n",
       "      <td>13</td>\n",
       "      <td>7</td>\n",
       "      <td>8</td>\n",
       "      <td>3</td>\n",
       "      <td>4</td>\n",
       "      <td>11</td>\n",
       "      <td>...</td>\n",
       "      <td>14</td>\n",
       "      <td>22</td>\n",
       "      <td>22</td>\n",
       "      <td>17</td>\n",
       "      <td>0</td>\n",
       "      <td>73</td>\n",
       "      <td>56</td>\n",
       "      <td>14</td>\n",
       "      <td>7</td>\n",
       "      <td>26</td>\n",
       "    </tr>\n",
       "    <tr>\n",
       "      <th>136</th>\n",
       "      <td>431</td>\n",
       "      <td>73</td>\n",
       "      <td>184</td>\n",
       "      <td>319</td>\n",
       "      <td>226</td>\n",
       "      <td>812</td>\n",
       "      <td>141</td>\n",
       "      <td>233</td>\n",
       "      <td>201</td>\n",
       "      <td>475</td>\n",
       "      <td>...</td>\n",
       "      <td>1912</td>\n",
       "      <td>314</td>\n",
       "      <td>516</td>\n",
       "      <td>241</td>\n",
       "      <td>361</td>\n",
       "      <td>640</td>\n",
       "      <td>230</td>\n",
       "      <td>576</td>\n",
       "      <td>134</td>\n",
       "      <td>121</td>\n",
       "    </tr>\n",
       "    <tr>\n",
       "      <th>137</th>\n",
       "      <td>78</td>\n",
       "      <td>122</td>\n",
       "      <td>83</td>\n",
       "      <td>275</td>\n",
       "      <td>102</td>\n",
       "      <td>49</td>\n",
       "      <td>66</td>\n",
       "      <td>137</td>\n",
       "      <td>132</td>\n",
       "      <td>109</td>\n",
       "      <td>...</td>\n",
       "      <td>145</td>\n",
       "      <td>71</td>\n",
       "      <td>108</td>\n",
       "      <td>153</td>\n",
       "      <td>84</td>\n",
       "      <td>116</td>\n",
       "      <td>153</td>\n",
       "      <td>43</td>\n",
       "      <td>92</td>\n",
       "      <td>108</td>\n",
       "    </tr>\n",
       "    <tr>\n",
       "      <th>138</th>\n",
       "      <td>56</td>\n",
       "      <td>111</td>\n",
       "      <td>3</td>\n",
       "      <td>66</td>\n",
       "      <td>36</td>\n",
       "      <td>6</td>\n",
       "      <td>125</td>\n",
       "      <td>7</td>\n",
       "      <td>24</td>\n",
       "      <td>139</td>\n",
       "      <td>...</td>\n",
       "      <td>265</td>\n",
       "      <td>7</td>\n",
       "      <td>130</td>\n",
       "      <td>56</td>\n",
       "      <td>129</td>\n",
       "      <td>15</td>\n",
       "      <td>1</td>\n",
       "      <td>51</td>\n",
       "      <td>12</td>\n",
       "      <td>20</td>\n",
       "    </tr>\n",
       "    <tr>\n",
       "      <th>139</th>\n",
       "      <td>314</td>\n",
       "      <td>13</td>\n",
       "      <td>92</td>\n",
       "      <td>85</td>\n",
       "      <td>33</td>\n",
       "      <td>116</td>\n",
       "      <td>56</td>\n",
       "      <td>35</td>\n",
       "      <td>22</td>\n",
       "      <td>77</td>\n",
       "      <td>...</td>\n",
       "      <td>30</td>\n",
       "      <td>47</td>\n",
       "      <td>179</td>\n",
       "      <td>178</td>\n",
       "      <td>81</td>\n",
       "      <td>13</td>\n",
       "      <td>74</td>\n",
       "      <td>47</td>\n",
       "      <td>312</td>\n",
       "      <td>57</td>\n",
       "    </tr>\n",
       "    <tr>\n",
       "      <th>140</th>\n",
       "      <td>26</td>\n",
       "      <td>116</td>\n",
       "      <td>84</td>\n",
       "      <td>117</td>\n",
       "      <td>275</td>\n",
       "      <td>38</td>\n",
       "      <td>45</td>\n",
       "      <td>56</td>\n",
       "      <td>33</td>\n",
       "      <td>12</td>\n",
       "      <td>...</td>\n",
       "      <td>127</td>\n",
       "      <td>60</td>\n",
       "      <td>68</td>\n",
       "      <td>225</td>\n",
       "      <td>269</td>\n",
       "      <td>57</td>\n",
       "      <td>32</td>\n",
       "      <td>112</td>\n",
       "      <td>21</td>\n",
       "      <td>50</td>\n",
       "    </tr>\n",
       "    <tr>\n",
       "      <th>141</th>\n",
       "      <td>72</td>\n",
       "      <td>262</td>\n",
       "      <td>241</td>\n",
       "      <td>305</td>\n",
       "      <td>81</td>\n",
       "      <td>284</td>\n",
       "      <td>302</td>\n",
       "      <td>189</td>\n",
       "      <td>108</td>\n",
       "      <td>126</td>\n",
       "      <td>...</td>\n",
       "      <td>186</td>\n",
       "      <td>96</td>\n",
       "      <td>143</td>\n",
       "      <td>119</td>\n",
       "      <td>366</td>\n",
       "      <td>301</td>\n",
       "      <td>207</td>\n",
       "      <td>281</td>\n",
       "      <td>56</td>\n",
       "      <td>208</td>\n",
       "    </tr>\n",
       "    <tr>\n",
       "      <th>142</th>\n",
       "      <td>0</td>\n",
       "      <td>29</td>\n",
       "      <td>19</td>\n",
       "      <td>0</td>\n",
       "      <td>6</td>\n",
       "      <td>1</td>\n",
       "      <td>187</td>\n",
       "      <td>19</td>\n",
       "      <td>0</td>\n",
       "      <td>28</td>\n",
       "      <td>...</td>\n",
       "      <td>21</td>\n",
       "      <td>1</td>\n",
       "      <td>2</td>\n",
       "      <td>12</td>\n",
       "      <td>1</td>\n",
       "      <td>5</td>\n",
       "      <td>67</td>\n",
       "      <td>105</td>\n",
       "      <td>128</td>\n",
       "      <td>1</td>\n",
       "    </tr>\n",
       "  </tbody>\n",
       "</table>\n",
       "<p>10 rows × 150 columns</p>\n",
       "</div>"
      ],
      "text/plain": [
       "      S0   S1   S2   S3   S4   S5   S6   S7   S8   S9  ...  S140  S141  S142  \\\n",
       "133   76   24   56   66   64   34   26   86   25  106  ...    61    21    43   \n",
       "134    4   43    0    4    4    8   12   33   19  287  ...    18     7     9   \n",
       "135   46   19    8   52   13    7    8    3    4   11  ...    14    22    22   \n",
       "136  431   73  184  319  226  812  141  233  201  475  ...  1912   314   516   \n",
       "137   78  122   83  275  102   49   66  137  132  109  ...   145    71   108   \n",
       "138   56  111    3   66   36    6  125    7   24  139  ...   265     7   130   \n",
       "139  314   13   92   85   33  116   56   35   22   77  ...    30    47   179   \n",
       "140   26  116   84  117  275   38   45   56   33   12  ...   127    60    68   \n",
       "141   72  262  241  305   81  284  302  189  108  126  ...   186    96   143   \n",
       "142    0   29   19    0    6    1  187   19    0   28  ...    21     1     2   \n",
       "\n",
       "     S143  S144  S145  S146  S147  S148  S149  \n",
       "133    38   101    12    25    58     7    38  \n",
       "134     2    11     1    20    10     6     3  \n",
       "135    17     0    73    56    14     7    26  \n",
       "136   241   361   640   230   576   134   121  \n",
       "137   153    84   116   153    43    92   108  \n",
       "138    56   129    15     1    51    12    20  \n",
       "139   178    81    13    74    47   312    57  \n",
       "140   225   269    57    32   112    21    50  \n",
       "141   119   366   301   207   281    56   208  \n",
       "142    12     1     5    67   105   128     1  \n",
       "\n",
       "[10 rows x 150 columns]"
      ]
     },
     "execution_count": 35,
     "metadata": {},
     "output_type": "execute_result"
    }
   ],
   "source": [
    "sep_reads[\"Set2\"].head(10)"
   ]
  },
  {
   "cell_type": "code",
   "execution_count": null,
   "id": "ba69e442",
   "metadata": {},
   "outputs": [],
   "source": []
  }
 ],
 "metadata": {
  "kernelspec": {
   "display_name": "Python 3",
   "language": "python",
   "name": "python3"
  },
  "language_info": {
   "codemirror_mode": {
    "name": "ipython",
    "version": 3
   },
   "file_extension": ".py",
   "mimetype": "text/x-python",
   "name": "python",
   "nbconvert_exporter": "python",
   "pygments_lexer": "ipython3",
   "version": "3.8.8"
  }
 },
 "nbformat": 4,
 "nbformat_minor": 5
}
